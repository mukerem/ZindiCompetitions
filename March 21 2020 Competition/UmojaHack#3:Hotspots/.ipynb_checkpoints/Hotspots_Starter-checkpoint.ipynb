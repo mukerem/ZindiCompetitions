{
 "cells": [
  {
   "cell_type": "markdown",
   "metadata": {
    "colab_type": "text",
    "id": "9owHpJecwq7g"
   },
   "source": [
    "# HotSpots Starter Notebook\n",
    "\n",
    "This notebook should help you get started with the Hotspots competition on Zindi. In it we cover:\n",
    "- Loading the data\n",
    "- Simple EDA and an example of feature enginnering\n",
    "- Suggestions for validation split\n",
    "- Creating a simple model\n",
    "- Making a submission\n",
    "- Some tips for improving your score\n"
   ]
  },
  {
   "cell_type": "markdown",
   "metadata": {
    "colab_type": "text",
    "id": "xKcJuq7bxof_"
   },
   "source": [
    "# Setup\n",
    "\n",
    "Load the data for the competition."
   ]
  },
  {
   "cell_type": "code",
   "execution_count": 0,
   "metadata": {
    "colab": {},
    "colab_type": "code",
    "id": "OjrWXlEHVvpF"
   },
   "outputs": [],
   "source": [
    "!cp 'drive/My Drive/hot_spots_drc_train.csv' train.csv\n",
    "!cp 'drive/My Drive/hot_spots_drc_test.csv' test.csv\n",
    "!cp 'drive/My Drive/hot_spots_drc_ss.csv' ss.csv"
   ]
  },
  {
   "cell_type": "code",
   "execution_count": 0,
   "metadata": {
    "colab": {},
    "colab_type": "code",
    "id": "2lLzfdilxfsY"
   },
   "outputs": [],
   "source": [
    "import pandas as pd\n",
    "from sklearn.linear_model import RidgeCV\n",
    "from sklearn.ensemble import RandomForestRegressor\n",
    "from sklearn.metrics import mean_squared_error, r2_score\n",
    "from matplotlib import pyplot as plt"
   ]
  },
  {
   "cell_type": "code",
   "execution_count": 0,
   "metadata": {
    "colab": {
     "base_uri": "https://localhost:8080/",
     "height": 301
    },
    "colab_type": "code",
    "id": "uaQM7lJHxRoe",
    "outputId": "450c5df0-7e1d-4f72-bee2-0c3113a37c96"
   },
   "outputs": [
    {
     "data": {
      "text/html": [
       "<div>\n",
       "<style scoped>\n",
       "    .dataframe tbody tr th:only-of-type {\n",
       "        vertical-align: middle;\n",
       "    }\n",
       "\n",
       "    .dataframe tbody tr th {\n",
       "        vertical-align: top;\n",
       "    }\n",
       "\n",
       "    .dataframe thead th {\n",
       "        text-align: right;\n",
       "    }\n",
       "</style>\n",
       "<table border=\"1\" class=\"dataframe\">\n",
       "  <thead>\n",
       "    <tr style=\"text-align: right;\">\n",
       "      <th></th>\n",
       "      <th>ID</th>\n",
       "      <th>area</th>\n",
       "      <th>date</th>\n",
       "      <th>lat</th>\n",
       "      <th>lon</th>\n",
       "      <th>burn_area</th>\n",
       "      <th>climate_aet</th>\n",
       "      <th>climate_def</th>\n",
       "      <th>climate_pdsi</th>\n",
       "      <th>climate_pet</th>\n",
       "      <th>climate_pr</th>\n",
       "      <th>climate_ro</th>\n",
       "      <th>climate_soil</th>\n",
       "      <th>climate_srad</th>\n",
       "      <th>climate_swe</th>\n",
       "      <th>climate_tmmn</th>\n",
       "      <th>climate_tmmx</th>\n",
       "      <th>climate_vap</th>\n",
       "      <th>climate_vpd</th>\n",
       "      <th>climate_vs</th>\n",
       "      <th>elevation</th>\n",
       "      <th>landcover_0</th>\n",
       "      <th>landcover_1</th>\n",
       "      <th>landcover_2</th>\n",
       "      <th>landcover_3</th>\n",
       "      <th>landcover_4</th>\n",
       "      <th>landcover_5</th>\n",
       "      <th>landcover_6</th>\n",
       "      <th>landcover_7</th>\n",
       "      <th>landcover_8</th>\n",
       "      <th>population_density</th>\n",
       "      <th>precipitation</th>\n",
       "    </tr>\n",
       "  </thead>\n",
       "  <tbody>\n",
       "    <tr>\n",
       "      <th>0</th>\n",
       "      <td>0_2000-04-01</td>\n",
       "      <td>0</td>\n",
       "      <td>2000-04-01</td>\n",
       "      <td>25.447</td>\n",
       "      <td>5.296</td>\n",
       "      <td>0.003688</td>\n",
       "      <td>1250.622712</td>\n",
       "      <td>0.0</td>\n",
       "      <td>-178.916305</td>\n",
       "      <td>1250.622712</td>\n",
       "      <td>158.387765</td>\n",
       "      <td>8.000000</td>\n",
       "      <td>498.913776</td>\n",
       "      <td>2143.430034</td>\n",
       "      <td>0.0</td>\n",
       "      <td>206.935453</td>\n",
       "      <td>323.873675</td>\n",
       "      <td>2508.795159</td>\n",
       "      <td>115.989282</td>\n",
       "      <td>129.825024</td>\n",
       "      <td>590.564102</td>\n",
       "      <td>0.0</td>\n",
       "      <td>0.0</td>\n",
       "      <td>0.350169</td>\n",
       "      <td>0.0</td>\n",
       "      <td>0.649524</td>\n",
       "      <td>0.0</td>\n",
       "      <td>0.000307</td>\n",
       "      <td>0.0</td>\n",
       "      <td>0.0</td>\n",
       "      <td>2.214262</td>\n",
       "      <td>0.198996</td>\n",
       "    </tr>\n",
       "    <tr>\n",
       "      <th>1</th>\n",
       "      <td>1_2000-04-01</td>\n",
       "      <td>1</td>\n",
       "      <td>2000-04-01</td>\n",
       "      <td>25.669</td>\n",
       "      <td>5.293</td>\n",
       "      <td>0.000000</td>\n",
       "      <td>1238.019166</td>\n",
       "      <td>0.0</td>\n",
       "      <td>-150.779947</td>\n",
       "      <td>1238.019166</td>\n",
       "      <td>164.645065</td>\n",
       "      <td>8.104576</td>\n",
       "      <td>590.346191</td>\n",
       "      <td>2132.253953</td>\n",
       "      <td>0.0</td>\n",
       "      <td>204.835170</td>\n",
       "      <td>321.838884</td>\n",
       "      <td>2500.432319</td>\n",
       "      <td>112.619789</td>\n",
       "      <td>129.471370</td>\n",
       "      <td>611.544277</td>\n",
       "      <td>0.0</td>\n",
       "      <td>0.0</td>\n",
       "      <td>0.429049</td>\n",
       "      <td>0.0</td>\n",
       "      <td>0.570644</td>\n",
       "      <td>0.0</td>\n",
       "      <td>0.000307</td>\n",
       "      <td>0.0</td>\n",
       "      <td>0.0</td>\n",
       "      <td>3.833042</td>\n",
       "      <td>0.188071</td>\n",
       "    </tr>\n",
       "    <tr>\n",
       "      <th>2</th>\n",
       "      <td>2_2000-04-01</td>\n",
       "      <td>2</td>\n",
       "      <td>2000-04-01</td>\n",
       "      <td>25.443</td>\n",
       "      <td>5.074</td>\n",
       "      <td>0.000000</td>\n",
       "      <td>1240.449964</td>\n",
       "      <td>0.0</td>\n",
       "      <td>-200.503858</td>\n",
       "      <td>1240.449964</td>\n",
       "      <td>163.699542</td>\n",
       "      <td>8.027851</td>\n",
       "      <td>536.613938</td>\n",
       "      <td>2139.632626</td>\n",
       "      <td>0.0</td>\n",
       "      <td>207.001206</td>\n",
       "      <td>321.846757</td>\n",
       "      <td>2519.259344</td>\n",
       "      <td>112.378707</td>\n",
       "      <td>127.550639</td>\n",
       "      <td>594.188987</td>\n",
       "      <td>0.0</td>\n",
       "      <td>0.0</td>\n",
       "      <td>0.238300</td>\n",
       "      <td>0.0</td>\n",
       "      <td>0.761700</td>\n",
       "      <td>0.0</td>\n",
       "      <td>0.000000</td>\n",
       "      <td>0.0</td>\n",
       "      <td>0.0</td>\n",
       "      <td>1.927303</td>\n",
       "      <td>0.211730</td>\n",
       "    </tr>\n",
       "    <tr>\n",
       "      <th>3</th>\n",
       "      <td>3_2000-04-01</td>\n",
       "      <td>3</td>\n",
       "      <td>2000-04-01</td>\n",
       "      <td>25.665</td>\n",
       "      <td>5.070</td>\n",
       "      <td>0.000000</td>\n",
       "      <td>1229.240077</td>\n",
       "      <td>0.0</td>\n",
       "      <td>-177.011032</td>\n",
       "      <td>1229.240077</td>\n",
       "      <td>172.996043</td>\n",
       "      <td>8.820002</td>\n",
       "      <td>648.271615</td>\n",
       "      <td>2125.206979</td>\n",
       "      <td>0.0</td>\n",
       "      <td>204.127473</td>\n",
       "      <td>319.348123</td>\n",
       "      <td>2493.392613</td>\n",
       "      <td>109.132390</td>\n",
       "      <td>131.703082</td>\n",
       "      <td>645.362481</td>\n",
       "      <td>0.0</td>\n",
       "      <td>0.0</td>\n",
       "      <td>0.488146</td>\n",
       "      <td>0.0</td>\n",
       "      <td>0.511854</td>\n",
       "      <td>0.0</td>\n",
       "      <td>0.000000</td>\n",
       "      <td>0.0</td>\n",
       "      <td>0.0</td>\n",
       "      <td>1.878281</td>\n",
       "      <td>0.215403</td>\n",
       "    </tr>\n",
       "    <tr>\n",
       "      <th>4</th>\n",
       "      <td>4_2000-04-01</td>\n",
       "      <td>4</td>\n",
       "      <td>2000-04-01</td>\n",
       "      <td>25.886</td>\n",
       "      <td>5.067</td>\n",
       "      <td>0.000307</td>\n",
       "      <td>1224.093679</td>\n",
       "      <td>0.0</td>\n",
       "      <td>-153.256111</td>\n",
       "      <td>1224.093679</td>\n",
       "      <td>178.396749</td>\n",
       "      <td>9.000000</td>\n",
       "      <td>719.423119</td>\n",
       "      <td>2114.709813</td>\n",
       "      <td>0.0</td>\n",
       "      <td>203.295123</td>\n",
       "      <td>318.639735</td>\n",
       "      <td>2487.984467</td>\n",
       "      <td>108.161469</td>\n",
       "      <td>133.354846</td>\n",
       "      <td>660.372381</td>\n",
       "      <td>0.0</td>\n",
       "      <td>0.0</td>\n",
       "      <td>0.322243</td>\n",
       "      <td>0.0</td>\n",
       "      <td>0.677757</td>\n",
       "      <td>0.0</td>\n",
       "      <td>0.000000</td>\n",
       "      <td>0.0</td>\n",
       "      <td>0.0</td>\n",
       "      <td>1.968818</td>\n",
       "      <td>0.199975</td>\n",
       "    </tr>\n",
       "  </tbody>\n",
       "</table>\n",
       "</div>"
      ],
      "text/plain": [
       "             ID  area  ... population_density  precipitation\n",
       "0  0_2000-04-01     0  ...           2.214262       0.198996\n",
       "1  1_2000-04-01     1  ...           3.833042       0.188071\n",
       "2  2_2000-04-01     2  ...           1.927303       0.211730\n",
       "3  3_2000-04-01     3  ...           1.878281       0.215403\n",
       "4  4_2000-04-01     4  ...           1.968818       0.199975\n",
       "\n",
       "[5 rows x 32 columns]"
      ]
     },
     "execution_count": 4,
     "metadata": {
      "tags": []
     },
     "output_type": "execute_result"
    }
   ],
   "source": [
    "train = pd.read_csv('train.csv', parse_dates=['date'])\n",
    "train.head()"
   ]
  },
  {
   "cell_type": "code",
   "execution_count": 0,
   "metadata": {
    "colab": {
     "base_uri": "https://localhost:8080/",
     "height": 114
    },
    "colab_type": "code",
    "id": "RHksNuWBxeDn",
    "outputId": "6f866580-7019-4d29-c593-8eed337acc89"
   },
   "outputs": [
    {
     "data": {
      "text/html": [
       "<div>\n",
       "<style scoped>\n",
       "    .dataframe tbody tr th:only-of-type {\n",
       "        vertical-align: middle;\n",
       "    }\n",
       "\n",
       "    .dataframe tbody tr th {\n",
       "        vertical-align: top;\n",
       "    }\n",
       "\n",
       "    .dataframe thead th {\n",
       "        text-align: right;\n",
       "    }\n",
       "</style>\n",
       "<table border=\"1\" class=\"dataframe\">\n",
       "  <thead>\n",
       "    <tr style=\"text-align: right;\">\n",
       "      <th></th>\n",
       "      <th>ID</th>\n",
       "      <th>area</th>\n",
       "      <th>date</th>\n",
       "      <th>lat</th>\n",
       "      <th>lon</th>\n",
       "      <th>burn_area</th>\n",
       "      <th>climate_aet</th>\n",
       "      <th>climate_def</th>\n",
       "      <th>climate_pdsi</th>\n",
       "      <th>climate_pet</th>\n",
       "      <th>climate_pr</th>\n",
       "      <th>climate_ro</th>\n",
       "      <th>climate_soil</th>\n",
       "      <th>climate_srad</th>\n",
       "      <th>climate_swe</th>\n",
       "      <th>climate_tmmn</th>\n",
       "      <th>climate_tmmx</th>\n",
       "      <th>climate_vap</th>\n",
       "      <th>climate_vpd</th>\n",
       "      <th>climate_vs</th>\n",
       "      <th>elevation</th>\n",
       "      <th>landcover_0</th>\n",
       "      <th>landcover_1</th>\n",
       "      <th>landcover_2</th>\n",
       "      <th>landcover_3</th>\n",
       "      <th>landcover_4</th>\n",
       "      <th>landcover_5</th>\n",
       "      <th>landcover_6</th>\n",
       "      <th>landcover_7</th>\n",
       "      <th>landcover_8</th>\n",
       "      <th>population_density</th>\n",
       "      <th>precipitation</th>\n",
       "    </tr>\n",
       "  </thead>\n",
       "  <tbody>\n",
       "    <tr>\n",
       "      <th>0</th>\n",
       "      <td>0_2014-01-01</td>\n",
       "      <td>0</td>\n",
       "      <td>2014-01-01</td>\n",
       "      <td>25.447</td>\n",
       "      <td>5.296</td>\n",
       "      <td>0</td>\n",
       "      <td>142.756021</td>\n",
       "      <td>1217.92618</td>\n",
       "      <td>-953.401012</td>\n",
       "      <td>1360.571291</td>\n",
       "      <td>1.0</td>\n",
       "      <td>0.0</td>\n",
       "      <td>355.59369</td>\n",
       "      <td>2349.499157</td>\n",
       "      <td>0.0</td>\n",
       "      <td>187.541787</td>\n",
       "      <td>332.578998</td>\n",
       "      <td>2542.124518</td>\n",
       "      <td>111.013969</td>\n",
       "      <td>156.563945</td>\n",
       "      <td>590.564102</td>\n",
       "      <td>0.0</td>\n",
       "      <td>0.0</td>\n",
       "      <td>0.430648</td>\n",
       "      <td>0.0</td>\n",
       "      <td>0.569045</td>\n",
       "      <td>0.0</td>\n",
       "      <td>0.000307</td>\n",
       "      <td>0.0</td>\n",
       "      <td>0.0</td>\n",
       "      <td>2.773423</td>\n",
       "      <td>0.000457</td>\n",
       "    </tr>\n",
       "  </tbody>\n",
       "</table>\n",
       "</div>"
      ],
      "text/plain": [
       "             ID  area  ... population_density  precipitation\n",
       "0  0_2014-01-01     0  ...           2.773423       0.000457\n",
       "\n",
       "[1 rows x 32 columns]"
      ]
     },
     "execution_count": 5,
     "metadata": {
      "tags": []
     },
     "output_type": "execute_result"
    }
   ],
   "source": [
    "test = pd.read_csv('test.csv', parse_dates=['date'])\n",
    "test.head(1)"
   ]
  },
  {
   "cell_type": "markdown",
   "metadata": {
    "colab_type": "text",
    "id": "Tnl3iVg5xqfA"
   },
   "source": [
    "# EDA + Feature Engineering"
   ]
  },
  {
   "cell_type": "code",
   "execution_count": 0,
   "metadata": {
    "colab": {
     "base_uri": "https://localhost:8080/",
     "height": 476
    },
    "colab_type": "code",
    "id": "DG4siNyqxrsi",
    "outputId": "653d09e4-ba69-4044-f30d-31e1990c6737"
   },
   "outputs": [
    {
     "data": {
      "text/plain": [
       "<matplotlib.axes._subplots.AxesSubplot at 0x7f03cb612eb8>"
      ]
     },
     "execution_count": 7,
     "metadata": {
      "tags": []
     },
     "output_type": "execute_result"
    },
    {
     "data": {
      "image/png": "[encoded data removed]",
      "text/plain": [
       "<Figure size 1296x432 with 1 Axes>"
      ]
     },
     "metadata": {
      "tags": []
     },
     "output_type": "display_data"
    }
   ],
   "source": [
    "# Look at correlation with target\n",
    "train.corr()['burn_area'].sort_values().plot(kind='bar', figsize=(18, 6))"
   ]
  },
  {
   "cell_type": "code",
   "execution_count": 0,
   "metadata": {
    "colab": {
     "base_uri": "https://localhost:8080/",
     "height": 282
    },
    "colab_type": "code",
    "id": "DLVC6pU91PPE",
    "outputId": "0d544013-7306-4f23-ecd4-d14bc8a244e6"
   },
   "outputs": [
    {
     "data": {
      "text/plain": [
       "<matplotlib.collections.PathCollection at 0x7f03c8c0cfd0>"
      ]
     },
     "execution_count": 10,
     "metadata": {
      "tags": []
     },
     "output_type": "execute_result"
    },
    {
     "data": {
      "image/png": "[encoded data removed]",
      "text/plain": [
       "<Figure size 432x288 with 1 Axes>"
      ]
     },
     "metadata": {
      "tags": []
     },
     "output_type": "display_data"
    }
   ],
   "source": [
    "# Look at some scatter plots (only plotting for a subset of data to keep things fast)\n",
    "sample = train.sample(10000)\n",
    "plt.scatter(sample['climate_vap'], sample['burn_area'], alpha=0.3)"
   ]
  },
  {
   "cell_type": "code",
   "execution_count": 0,
   "metadata": {
    "colab": {
     "base_uri": "https://localhost:8080/",
     "height": 282
    },
    "colab_type": "code",
    "id": "Fp-Wq1zrCets",
    "outputId": "97cea43a-dffd-4b24-f734-b868ffccd7a7"
   },
   "outputs": [
    {
     "data": {
      "text/plain": [
       "<matplotlib.collections.PathCollection at 0x7f03c8bef6a0>"
      ]
     },
     "execution_count": 11,
     "metadata": {
      "tags": []
     },
     "output_type": "execute_result"
    },
    {
     "data": {
      "image/png": "[encoded data removed]",
      "text/plain": [
       "<Figure size 432x288 with 1 Axes>"
      ]
     },
     "metadata": {
      "tags": []
     },
     "output_type": "display_data"
    }
   ],
   "source": [
    "# Higher temp -> more fires it looks like\n",
    "plt.scatter(sample['climate_tmmx'], sample['burn_area'], alpha=0.3)"
   ]
  },
  {
   "cell_type": "markdown",
   "metadata": {
    "colab_type": "text",
    "id": "xXIk62X9iONj"
   },
   "source": [
    "##  Adding date features"
   ]
  },
  {
   "cell_type": "code",
   "execution_count": 0,
   "metadata": {
    "colab": {
     "base_uri": "https://localhost:8080/",
     "height": 300
    },
    "colab_type": "code",
    "id": "bag8HJpxCucw",
    "outputId": "aceacb20-75de-461a-dccf-fd1c4a742d0f"
   },
   "outputs": [
    {
     "data": {
      "text/plain": [
       "<matplotlib.axes._subplots.AxesSubplot at 0x7f03c888c940>"
      ]
     },
     "execution_count": 18,
     "metadata": {
      "tags": []
     },
     "output_type": "execute_result"
    },
    {
     "data": {
      "image/png": "[encoded data removed]",
      "text/plain": [
       "<Figure size 432x288 with 1 Axes>"
      ]
     },
     "metadata": {
      "tags": []
     },
     "output_type": "display_data"
    }
   ],
   "source": [
    "# Date variables\n",
    "train['month'] = train.date.dt.month\n",
    "train['year'] = train.date.dt.year\n",
    "\n",
    "# Plotting mean burn_area for each month - very strong mid-year peak (dry season)\n",
    "train.groupby('month').mean().reset_index().plot(y='burn_area', x='month', kind='bar')"
   ]
  },
  {
   "cell_type": "code",
   "execution_count": 0,
   "metadata": {
    "colab": {
     "base_uri": "https://localhost:8080/",
     "height": 301
    },
    "colab_type": "code",
    "id": "o-Z-G6eMCznI",
    "outputId": "c26c1035-6612-4310-af01-619a472fcfe4"
   },
   "outputs": [
    {
     "data": {
      "text/plain": [
       "<matplotlib.axes._subplots.AxesSubplot at 0x7f03c8998a90>"
      ]
     },
     "execution_count": 16,
     "metadata": {
      "tags": []
     },
     "output_type": "execute_result"
    },
    {
     "data": {
      "image/png": "[encoded data removed]",
      "text/plain": [
       "<Figure size 432x288 with 1 Axes>"
      ]
     },
     "metadata": {
      "tags": []
     },
     "output_type": "display_data"
    }
   ],
   "source": [
    "# Plot trend year-on-year\n",
    "train.groupby('year').mean().reset_index().plot(y='burn_area', x='year', ylim=(0, 0.03))"
   ]
  },
  {
   "cell_type": "code",
   "execution_count": 0,
   "metadata": {
    "colab": {
     "base_uri": "https://localhost:8080/",
     "height": 286
    },
    "colab_type": "code",
    "id": "BCU3WP5fEAHq",
    "outputId": "45749eff-3423-46e8-f27c-f1a7a47209dc"
   },
   "outputs": [
    {
     "data": {
      "text/plain": [
       "<matplotlib.axes._subplots.AxesSubplot at 0x7f03c8888fd0>"
      ]
     },
     "execution_count": 20,
     "metadata": {
      "tags": []
     },
     "output_type": "execute_result"
    },
    {
     "data": {
      "image/png": "[encoded data removed]",
      "text/plain": [
       "<Figure size 432x288 with 1 Axes>"
      ]
     },
     "metadata": {
      "tags": []
     },
     "output_type": "display_data"
    }
   ],
   "source": [
    "# Let's plot precipitation and burn area on the same plot - note the inverse relationship, and the strong periodic component to both.\n",
    "ax = train.groupby('date').mean().reset_index().plot(y='burn_area', x='date')\n",
    "train.groupby('date').mean().reset_index().plot(y='precipitation', x='date', ax=ax)"
   ]
  },
  {
   "cell_type": "markdown",
   "metadata": {
    "colab_type": "text",
    "id": "mgzvz9iji1hb"
   },
   "source": [
    "## Adding more features - some ideas\n",
    "\n",
    "\n",
    "\n",
    "\n",
    "*   Read the list of climate variables and what they mean. See if you can combine them in interesting ways - perhaps a 'hot_and_dry' metric...\n",
    "*   Fire depends on some processes that take a long time - for example, there may be more fuel if the previous growing season was a good one. Consider some lagged variables to give the model some inputs for what came before the current month.\n",
    "*   Make some categorical features - 'dominant_land_type' or 'is_peak_rainfall'. \n",
    "*   ...\n",
    "\n"
   ]
  },
  {
   "cell_type": "markdown",
   "metadata": {
    "colab_type": "text",
    "id": "RDCOsUvCz3dA"
   },
   "source": [
    "# Data Split for Validation\n",
    "\n",
    "We don't want to just split randomly - this would give us artificially high scores. Instead, let's use the last 3 years of the dataset for validation to more closely match the test configuration."
   ]
  },
  {
   "cell_type": "code",
   "execution_count": 0,
   "metadata": {
    "colab": {
     "base_uri": "https://localhost:8080/",
     "height": 34
    },
    "colab_type": "code",
    "id": "SCk5CZKI0Kt4",
    "outputId": "7f782920-a526-4221-a1c7-d5c9e21aa7f0"
   },
   "outputs": [
    {
     "name": "stdout",
     "output_type": "stream",
     "text": [
      "(473856, 34) (129570, 34)\n"
     ]
    }
   ],
   "source": [
    "train_all = train.copy().dropna()\n",
    "train = train_all.loc[train_all.date < '2011-01-01']\n",
    "valid = train_all.loc[train_all.date > '2011-01-01']\n",
    "print(train.shape, valid.shape)"
   ]
  },
  {
   "cell_type": "markdown",
   "metadata": {
    "colab_type": "text",
    "id": "sIRFzOxTx3sE"
   },
   "source": [
    "# Simple Model"
   ]
  },
  {
   "cell_type": "code",
   "execution_count": 0,
   "metadata": {
    "colab": {
     "base_uri": "https://localhost:8080/",
     "height": 158
    },
    "colab_type": "code",
    "id": "hMjgH87RzOqX",
    "outputId": "fd413b77-8866-459c-ffcd-a7c4f9d075ff"
   },
   "outputs": [
    {
     "data": {
      "text/plain": [
       "Index(['climate_aet', 'climate_def', 'climate_pdsi', 'climate_pet',\n",
       "       'climate_pr', 'climate_ro', 'climate_soil', 'climate_srad',\n",
       "       'climate_swe', 'climate_tmmn', 'climate_tmmx', 'climate_vap',\n",
       "       'climate_vpd', 'climate_vs', 'elevation', 'landcover_0', 'landcover_1',\n",
       "       'landcover_2', 'landcover_3', 'landcover_4', 'landcover_5',\n",
       "       'landcover_6', 'landcover_7', 'landcover_8', 'population_density',\n",
       "       'precipitation', 'month', 'year'],\n",
       "      dtype='object')"
      ]
     },
     "execution_count": 22,
     "metadata": {
      "tags": []
     },
     "output_type": "execute_result"
    }
   ],
   "source": [
    "# Define input and output columns\n",
    "in_cols = train.columns[6:]\n",
    "target_col = 'burn_area'\n",
    "in_cols"
   ]
  },
  {
   "cell_type": "code",
   "execution_count": 0,
   "metadata": {
    "colab": {
     "base_uri": "https://localhost:8080/",
     "height": 34
    },
    "colab_type": "code",
    "id": "l-8j9zDpzUpc",
    "outputId": "2d3bc5d0-e33b-4a28-a465-1485553ba5a2"
   },
   "outputs": [
    {
     "data": {
      "text/plain": [
       "0.050251040694275946"
      ]
     },
     "execution_count": 24,
     "metadata": {
      "tags": []
     },
     "output_type": "execute_result"
    }
   ],
   "source": [
    "# Get our X and y training and validation sets ready\n",
    "X_train, y_train = train[in_cols], train[target_col]\n",
    "X_valid, y_valid = valid[in_cols], valid[target_col]\n",
    "\n",
    "# Create and fit the model\n",
    "model = RidgeCV()\n",
    "model.fit(X_train, y_train)\n",
    "\n",
    "# Make predictions\n",
    "preds = model.predict(X_valid)\n",
    "\n",
    "# Score\n",
    "mean_squared_error(y_valid, preds)**0.5 # RMSE - should match Zindi score. Lower is better"
   ]
  },
  {
   "cell_type": "code",
   "execution_count": 0,
   "metadata": {
    "colab": {
     "base_uri": "https://localhost:8080/",
     "height": 34
    },
    "colab_type": "code",
    "id": "isI_-sfnzXED",
    "outputId": "b06ed099-9fb4-465c-b195-52e9a5981c6d"
   },
   "outputs": [
    {
     "data": {
      "text/plain": [
       "0.04157531965553466"
      ]
     },
     "execution_count": 28,
     "metadata": {
      "tags": []
     },
     "output_type": "execute_result"
    }
   ],
   "source": [
    "# Exercise. Try a RandomForestRegressor model. Use n_estimators=10 if the default takes too long to run, and experiment with the max_depth parameter.\n",
    "# With some tweaking, you should be able to get scores ~0.042 or lower."
   ]
  },
  {
   "cell_type": "code",
   "execution_count": 0,
   "metadata": {
    "colab": {},
    "colab_type": "code",
    "id": "xmK8kfNU7agI"
   },
   "outputs": [],
   "source": []
  },
  {
   "cell_type": "markdown",
   "metadata": {
    "colab_type": "text",
    "id": "Eq7DM0URkkai"
   },
   "source": [
    "# Making A Submission\n",
    "\n",
    "Once you've got some features and a model you're happy with, it's time to submit!"
   ]
  },
  {
   "cell_type": "code",
   "execution_count": 0,
   "metadata": {
    "colab": {
     "base_uri": "https://localhost:8080/",
     "height": 197
    },
    "colab_type": "code",
    "id": "bb8DdgWskqQs",
    "outputId": "a6a8e3d0-3fc1-4f6f-e03d-102658f871cb"
   },
   "outputs": [
    {
     "data": {
      "text/html": [
       "<div>\n",
       "<style scoped>\n",
       "    .dataframe tbody tr th:only-of-type {\n",
       "        vertical-align: middle;\n",
       "    }\n",
       "\n",
       "    .dataframe tbody tr th {\n",
       "        vertical-align: top;\n",
       "    }\n",
       "\n",
       "    .dataframe thead th {\n",
       "        text-align: right;\n",
       "    }\n",
       "</style>\n",
       "<table border=\"1\" class=\"dataframe\">\n",
       "  <thead>\n",
       "    <tr style=\"text-align: right;\">\n",
       "      <th></th>\n",
       "      <th>ID</th>\n",
       "      <th>Prediction</th>\n",
       "    </tr>\n",
       "  </thead>\n",
       "  <tbody>\n",
       "    <tr>\n",
       "      <th>0</th>\n",
       "      <td>0_2014-01-01</td>\n",
       "      <td>0</td>\n",
       "    </tr>\n",
       "    <tr>\n",
       "      <th>1</th>\n",
       "      <td>1_2014-01-01</td>\n",
       "      <td>0</td>\n",
       "    </tr>\n",
       "    <tr>\n",
       "      <th>2</th>\n",
       "      <td>2_2014-01-01</td>\n",
       "      <td>0</td>\n",
       "    </tr>\n",
       "    <tr>\n",
       "      <th>3</th>\n",
       "      <td>3_2014-01-01</td>\n",
       "      <td>0</td>\n",
       "    </tr>\n",
       "    <tr>\n",
       "      <th>4</th>\n",
       "      <td>4_2014-01-01</td>\n",
       "      <td>0</td>\n",
       "    </tr>\n",
       "  </tbody>\n",
       "</table>\n",
       "</div>"
      ],
      "text/plain": [
       "             ID  Prediction\n",
       "0  0_2014-01-01           0\n",
       "1  1_2014-01-01           0\n",
       "2  2_2014-01-01           0\n",
       "3  3_2014-01-01           0\n",
       "4  4_2014-01-01           0"
      ]
     },
     "execution_count": 25,
     "metadata": {
      "tags": []
     },
     "output_type": "execute_result"
    }
   ],
   "source": [
    "# Look at the sample submission file\n",
    "ss = pd.read_csv('ss.csv')\n",
    "ss.head()"
   ]
  },
  {
   "cell_type": "code",
   "execution_count": 0,
   "metadata": {
    "colab": {
     "base_uri": "https://localhost:8080/",
     "height": 301
    },
    "colab_type": "code",
    "id": "MlKjnZ8WkvaX",
    "outputId": "20fd5829-9158-4267-e0d9-8b8469879b73"
   },
   "outputs": [
    {
     "data": {
      "text/html": [
       "<div>\n",
       "<style scoped>\n",
       "    .dataframe tbody tr th:only-of-type {\n",
       "        vertical-align: middle;\n",
       "    }\n",
       "\n",
       "    .dataframe tbody tr th {\n",
       "        vertical-align: top;\n",
       "    }\n",
       "\n",
       "    .dataframe thead th {\n",
       "        text-align: right;\n",
       "    }\n",
       "</style>\n",
       "<table border=\"1\" class=\"dataframe\">\n",
       "  <thead>\n",
       "    <tr style=\"text-align: right;\">\n",
       "      <th></th>\n",
       "      <th>ID</th>\n",
       "      <th>area</th>\n",
       "      <th>date</th>\n",
       "      <th>lat</th>\n",
       "      <th>lon</th>\n",
       "      <th>burn_area</th>\n",
       "      <th>climate_aet</th>\n",
       "      <th>climate_def</th>\n",
       "      <th>climate_pdsi</th>\n",
       "      <th>climate_pet</th>\n",
       "      <th>climate_pr</th>\n",
       "      <th>climate_ro</th>\n",
       "      <th>climate_soil</th>\n",
       "      <th>climate_srad</th>\n",
       "      <th>climate_swe</th>\n",
       "      <th>climate_tmmn</th>\n",
       "      <th>climate_tmmx</th>\n",
       "      <th>climate_vap</th>\n",
       "      <th>climate_vpd</th>\n",
       "      <th>climate_vs</th>\n",
       "      <th>elevation</th>\n",
       "      <th>landcover_0</th>\n",
       "      <th>landcover_1</th>\n",
       "      <th>landcover_2</th>\n",
       "      <th>landcover_3</th>\n",
       "      <th>landcover_4</th>\n",
       "      <th>landcover_5</th>\n",
       "      <th>landcover_6</th>\n",
       "      <th>landcover_7</th>\n",
       "      <th>landcover_8</th>\n",
       "      <th>population_density</th>\n",
       "      <th>precipitation</th>\n",
       "    </tr>\n",
       "  </thead>\n",
       "  <tbody>\n",
       "    <tr>\n",
       "      <th>0</th>\n",
       "      <td>0_2014-01-01</td>\n",
       "      <td>0</td>\n",
       "      <td>2014-01-01</td>\n",
       "      <td>25.447</td>\n",
       "      <td>5.296</td>\n",
       "      <td>0</td>\n",
       "      <td>142.756021</td>\n",
       "      <td>1217.926180</td>\n",
       "      <td>-953.401012</td>\n",
       "      <td>1360.571291</td>\n",
       "      <td>1.000000</td>\n",
       "      <td>0.0</td>\n",
       "      <td>355.593690</td>\n",
       "      <td>2349.499157</td>\n",
       "      <td>0.0</td>\n",
       "      <td>187.541787</td>\n",
       "      <td>332.578998</td>\n",
       "      <td>2542.124518</td>\n",
       "      <td>111.013969</td>\n",
       "      <td>156.563945</td>\n",
       "      <td>590.564102</td>\n",
       "      <td>0.0</td>\n",
       "      <td>0.0</td>\n",
       "      <td>0.430648</td>\n",
       "      <td>0.0</td>\n",
       "      <td>0.569045</td>\n",
       "      <td>0.0</td>\n",
       "      <td>0.000307</td>\n",
       "      <td>0.0</td>\n",
       "      <td>0.0</td>\n",
       "      <td>2.773423</td>\n",
       "      <td>0.000457</td>\n",
       "    </tr>\n",
       "    <tr>\n",
       "      <th>1</th>\n",
       "      <td>1_2014-01-01</td>\n",
       "      <td>1</td>\n",
       "      <td>2014-01-01</td>\n",
       "      <td>25.669</td>\n",
       "      <td>5.293</td>\n",
       "      <td>0</td>\n",
       "      <td>154.836847</td>\n",
       "      <td>1193.866315</td>\n",
       "      <td>-961.703043</td>\n",
       "      <td>1348.688788</td>\n",
       "      <td>1.000000</td>\n",
       "      <td>0.0</td>\n",
       "      <td>382.206636</td>\n",
       "      <td>2340.597389</td>\n",
       "      <td>0.0</td>\n",
       "      <td>185.895903</td>\n",
       "      <td>330.826066</td>\n",
       "      <td>2551.085649</td>\n",
       "      <td>106.576545</td>\n",
       "      <td>158.165429</td>\n",
       "      <td>611.544277</td>\n",
       "      <td>0.0</td>\n",
       "      <td>0.0</td>\n",
       "      <td>0.494624</td>\n",
       "      <td>0.0</td>\n",
       "      <td>0.505068</td>\n",
       "      <td>0.0</td>\n",
       "      <td>0.000307</td>\n",
       "      <td>0.0</td>\n",
       "      <td>0.0</td>\n",
       "      <td>4.697883</td>\n",
       "      <td>0.000129</td>\n",
       "    </tr>\n",
       "    <tr>\n",
       "      <th>2</th>\n",
       "      <td>2_2014-01-01</td>\n",
       "      <td>2</td>\n",
       "      <td>2014-01-01</td>\n",
       "      <td>25.443</td>\n",
       "      <td>5.074</td>\n",
       "      <td>0</td>\n",
       "      <td>127.790933</td>\n",
       "      <td>1223.640222</td>\n",
       "      <td>-962.435857</td>\n",
       "      <td>1351.521823</td>\n",
       "      <td>1.000000</td>\n",
       "      <td>0.0</td>\n",
       "      <td>318.078852</td>\n",
       "      <td>2351.867856</td>\n",
       "      <td>0.0</td>\n",
       "      <td>188.441645</td>\n",
       "      <td>330.077285</td>\n",
       "      <td>2551.183265</td>\n",
       "      <td>107.104292</td>\n",
       "      <td>153.257656</td>\n",
       "      <td>594.188987</td>\n",
       "      <td>0.0</td>\n",
       "      <td>0.0</td>\n",
       "      <td>0.288343</td>\n",
       "      <td>0.0</td>\n",
       "      <td>0.711657</td>\n",
       "      <td>0.0</td>\n",
       "      <td>0.000000</td>\n",
       "      <td>0.0</td>\n",
       "      <td>0.0</td>\n",
       "      <td>2.488614</td>\n",
       "      <td>0.000398</td>\n",
       "    </tr>\n",
       "    <tr>\n",
       "      <th>3</th>\n",
       "      <td>3_2014-01-01</td>\n",
       "      <td>3</td>\n",
       "      <td>2014-01-01</td>\n",
       "      <td>25.665</td>\n",
       "      <td>5.070</td>\n",
       "      <td>0</td>\n",
       "      <td>136.924571</td>\n",
       "      <td>1201.258784</td>\n",
       "      <td>-961.326298</td>\n",
       "      <td>1338.120278</td>\n",
       "      <td>1.000000</td>\n",
       "      <td>0.0</td>\n",
       "      <td>339.386497</td>\n",
       "      <td>2348.509414</td>\n",
       "      <td>0.0</td>\n",
       "      <td>185.393692</td>\n",
       "      <td>326.942319</td>\n",
       "      <td>2539.815326</td>\n",
       "      <td>101.962346</td>\n",
       "      <td>155.518048</td>\n",
       "      <td>645.362481</td>\n",
       "      <td>0.0</td>\n",
       "      <td>0.0</td>\n",
       "      <td>0.492103</td>\n",
       "      <td>0.0</td>\n",
       "      <td>0.507897</td>\n",
       "      <td>0.0</td>\n",
       "      <td>0.000000</td>\n",
       "      <td>0.0</td>\n",
       "      <td>0.0</td>\n",
       "      <td>2.439959</td>\n",
       "      <td>0.000158</td>\n",
       "    </tr>\n",
       "    <tr>\n",
       "      <th>4</th>\n",
       "      <td>4_2014-01-01</td>\n",
       "      <td>4</td>\n",
       "      <td>2014-01-01</td>\n",
       "      <td>25.886</td>\n",
       "      <td>5.067</td>\n",
       "      <td>0</td>\n",
       "      <td>144.278146</td>\n",
       "      <td>1197.831547</td>\n",
       "      <td>-959.248284</td>\n",
       "      <td>1342.118844</td>\n",
       "      <td>0.998555</td>\n",
       "      <td>0.0</td>\n",
       "      <td>358.043829</td>\n",
       "      <td>2341.881156</td>\n",
       "      <td>0.0</td>\n",
       "      <td>186.275015</td>\n",
       "      <td>327.839976</td>\n",
       "      <td>2549.462252</td>\n",
       "      <td>102.743046</td>\n",
       "      <td>159.865021</td>\n",
       "      <td>660.372381</td>\n",
       "      <td>0.0</td>\n",
       "      <td>0.0</td>\n",
       "      <td>0.333855</td>\n",
       "      <td>0.0</td>\n",
       "      <td>0.666145</td>\n",
       "      <td>0.0</td>\n",
       "      <td>0.000000</td>\n",
       "      <td>0.0</td>\n",
       "      <td>0.0</td>\n",
       "      <td>2.546723</td>\n",
       "      <td>0.000153</td>\n",
       "    </tr>\n",
       "  </tbody>\n",
       "</table>\n",
       "</div>"
      ],
      "text/plain": [
       "             ID  area  ... population_density  precipitation\n",
       "0  0_2014-01-01     0  ...           2.773423       0.000457\n",
       "1  1_2014-01-01     1  ...           4.697883       0.000129\n",
       "2  2_2014-01-01     2  ...           2.488614       0.000398\n",
       "3  3_2014-01-01     3  ...           2.439959       0.000158\n",
       "4  4_2014-01-01     4  ...           2.546723       0.000153\n",
       "\n",
       "[5 rows x 32 columns]"
      ]
     },
     "execution_count": 26,
     "metadata": {
      "tags": []
     },
     "output_type": "execute_result"
    }
   ],
   "source": [
    "# And the test data\n",
    "test.head()"
   ]
  },
  {
   "cell_type": "code",
   "execution_count": 0,
   "metadata": {
    "colab": {
     "base_uri": "https://localhost:8080/",
     "height": 197
    },
    "colab_type": "code",
    "id": "HItSe6MCkyPB",
    "outputId": "5b83c1c4-d2f6-44e8-cbc0-ab7e96bb0097"
   },
   "outputs": [
    {
     "data": {
      "text/html": [
       "<div>\n",
       "<style scoped>\n",
       "    .dataframe tbody tr th:only-of-type {\n",
       "        vertical-align: middle;\n",
       "    }\n",
       "\n",
       "    .dataframe tbody tr th {\n",
       "        vertical-align: top;\n",
       "    }\n",
       "\n",
       "    .dataframe thead th {\n",
       "        text-align: right;\n",
       "    }\n",
       "</style>\n",
       "<table border=\"1\" class=\"dataframe\">\n",
       "  <thead>\n",
       "    <tr style=\"text-align: right;\">\n",
       "      <th></th>\n",
       "      <th>ID</th>\n",
       "      <th>Prediction</th>\n",
       "    </tr>\n",
       "  </thead>\n",
       "  <tbody>\n",
       "    <tr>\n",
       "      <th>0</th>\n",
       "      <td>0_2014-01-01</td>\n",
       "      <td>0.071148</td>\n",
       "    </tr>\n",
       "    <tr>\n",
       "      <th>1</th>\n",
       "      <td>1_2014-01-01</td>\n",
       "      <td>0.067406</td>\n",
       "    </tr>\n",
       "    <tr>\n",
       "      <th>2</th>\n",
       "      <td>2_2014-01-01</td>\n",
       "      <td>0.074817</td>\n",
       "    </tr>\n",
       "    <tr>\n",
       "      <th>3</th>\n",
       "      <td>3_2014-01-01</td>\n",
       "      <td>0.065543</td>\n",
       "    </tr>\n",
       "    <tr>\n",
       "      <th>4</th>\n",
       "      <td>4_2014-01-01</td>\n",
       "      <td>0.068508</td>\n",
       "    </tr>\n",
       "  </tbody>\n",
       "</table>\n",
       "</div>"
      ],
      "text/plain": [
       "             ID  Prediction\n",
       "0  0_2014-01-01    0.071148\n",
       "1  1_2014-01-01    0.067406\n",
       "2  2_2014-01-01    0.074817\n",
       "3  3_2014-01-01    0.065543\n",
       "4  4_2014-01-01    0.068508"
      ]
     },
     "execution_count": 28,
     "metadata": {
      "tags": []
     },
     "output_type": "execute_result"
    }
   ],
   "source": [
    "# So we need to predict the burn area for each row in test. \n",
    "\n",
    "# Add the same features to test as we did to train:\n",
    "test['month'] = test.date.dt.month\n",
    "test['year'] = test.date.dt.year\n",
    "\n",
    "# Get predictions\n",
    "preds = model.predict(test[in_cols].fillna(0)) # fillna(0) here could be improved by examining the missing data and filling more appropriately.\n",
    "\n",
    "# Add to submission dataframe\n",
    "ss['Prediction'] = preds\n",
    "\n",
    "# View\n",
    "ss.head()"
   ]
  },
  {
   "cell_type": "code",
   "execution_count": 0,
   "metadata": {
    "colab": {},
    "colab_type": "code",
    "id": "13Ns-f5blIEs"
   },
   "outputs": [],
   "source": [
    "# Save ready for submission:\n",
    "ss.to_csv('starter_submission.csv', index=False)"
   ]
  },
  {
   "cell_type": "code",
   "execution_count": 0,
   "metadata": {
    "colab": {},
    "colab_type": "code",
    "id": "ctvB3IrzlZ5s"
   },
   "outputs": [],
   "source": []
  },
  {
   "cell_type": "markdown",
   "metadata": {
    "colab_type": "text",
    "id": "OeyjG8-4mK7Y"
   },
   "source": [
    "# Tips for improving your score\n",
    "\n",
    "- Once you've chosen a model, you should re-train it on all the data (including that which you previously held back for validation) to give it the best chance of succeeding\n",
    "- There is a timeseries component to this challenge. Think about how to use this to improve your accuracy.\n",
    "- Spend some time on feature engineering. Since no external data is allowed for this challenge, the winning solution will be the one that gets the most out of the data provided."
   ]
  },
  {
   "cell_type": "code",
   "execution_count": 0,
   "metadata": {
    "colab": {},
    "colab_type": "code",
    "id": "yUuqtHNKnO3r"
   },
   "outputs": [],
   "source": []
  }
 ],
 "metadata": {
  "colab": {
   "name": "Hotspots Starter.ipynb",
   "provenance": [],
   "toc_visible": true
  },
  "kernelspec": {
   "display_name": "Python 3",
   "language": "python",
   "name": "python3"
  },
  "language_info": {
   "codemirror_mode": {
    "name": "ipython",
    "version": 3
   },
   "file_extension": ".py",
   "mimetype": "text/x-python",
   "name": "python",
   "nbconvert_exporter": "python",
   "pygments_lexer": "ipython3",
   "version": "3.6.9"
  }
 },
 "nbformat": 4,
 "nbformat_minor": 1
}
