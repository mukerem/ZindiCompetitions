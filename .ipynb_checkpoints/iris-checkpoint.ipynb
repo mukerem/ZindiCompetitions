{
 "cells": [
  {
   "cell_type": "code",
   "execution_count": 49,
   "metadata": {},
   "outputs": [],
   "source": [
    "# load the iris dataset \n",
    "import pandas as pd\n",
    "from sklearn.datasets import load_iris \n",
    "import warnings\n",
    "warnings.filterwarnings('ignore')"
   ]
  },
  {
   "cell_type": "code",
   "execution_count": 50,
   "metadata": {},
   "outputs": [],
   "source": [
    "iris = load_iris() "
   ]
  },
  {
   "cell_type": "code",
   "execution_count": 18,
   "metadata": {},
   "outputs": [],
   "source": [
    "\n",
    "# store the feature matrix (X) and response vector (y) \n",
    "features = iris.data \n",
    "label = iris.target \n",
    "\n",
    "\n",
    "X = pd.DataFrame({'sepal_length': features[:, 0], 'sepal_width': features[:, 1], 'petal_length': features[:, 2],\n",
    "                  'petal_width': features[:, 3]})\n",
    "y = pd.DataFrame({'class': label})"
   ]
  },
  {
   "cell_type": "code",
   "execution_count": 19,
   "metadata": {},
   "outputs": [
    {
     "data": {
      "text/html": [
       "<div>\n",
       "<style scoped>\n",
       "    .dataframe tbody tr th:only-of-type {\n",
       "        vertical-align: middle;\n",
       "    }\n",
       "\n",
       "    .dataframe tbody tr th {\n",
       "        vertical-align: top;\n",
       "    }\n",
       "\n",
       "    .dataframe thead th {\n",
       "        text-align: right;\n",
       "    }\n",
       "</style>\n",
       "<table border=\"1\" class=\"dataframe\">\n",
       "  <thead>\n",
       "    <tr style=\"text-align: right;\">\n",
       "      <th></th>\n",
       "      <th>sepal_length</th>\n",
       "      <th>sepal_width</th>\n",
       "      <th>petal_length</th>\n",
       "      <th>petal_width</th>\n",
       "    </tr>\n",
       "  </thead>\n",
       "  <tbody>\n",
       "    <tr>\n",
       "      <th>0</th>\n",
       "      <td>5.1</td>\n",
       "      <td>3.5</td>\n",
       "      <td>1.4</td>\n",
       "      <td>0.2</td>\n",
       "    </tr>\n",
       "    <tr>\n",
       "      <th>1</th>\n",
       "      <td>4.9</td>\n",
       "      <td>3.0</td>\n",
       "      <td>1.4</td>\n",
       "      <td>0.2</td>\n",
       "    </tr>\n",
       "    <tr>\n",
       "      <th>2</th>\n",
       "      <td>4.7</td>\n",
       "      <td>3.2</td>\n",
       "      <td>1.3</td>\n",
       "      <td>0.2</td>\n",
       "    </tr>\n",
       "    <tr>\n",
       "      <th>3</th>\n",
       "      <td>4.6</td>\n",
       "      <td>3.1</td>\n",
       "      <td>1.5</td>\n",
       "      <td>0.2</td>\n",
       "    </tr>\n",
       "    <tr>\n",
       "      <th>4</th>\n",
       "      <td>5.0</td>\n",
       "      <td>3.6</td>\n",
       "      <td>1.4</td>\n",
       "      <td>0.2</td>\n",
       "    </tr>\n",
       "  </tbody>\n",
       "</table>\n",
       "</div>"
      ],
      "text/plain": [
       "   sepal_length  sepal_width  petal_length  petal_width\n",
       "0           5.1          3.5           1.4          0.2\n",
       "1           4.9          3.0           1.4          0.2\n",
       "2           4.7          3.2           1.3          0.2\n",
       "3           4.6          3.1           1.5          0.2\n",
       "4           5.0          3.6           1.4          0.2"
      ]
     },
     "execution_count": 19,
     "metadata": {},
     "output_type": "execute_result"
    }
   ],
   "source": [
    "X.head()"
   ]
  },
  {
   "cell_type": "code",
   "execution_count": 32,
   "metadata": {},
   "outputs": [
    {
     "data": {
      "text/plain": [
       "sepal_length    False\n",
       "sepal_width     False\n",
       "petal_length    False\n",
       "petal_width     False\n",
       "dtype: bool"
      ]
     },
     "execution_count": 32,
     "metadata": {},
     "output_type": "execute_result"
    }
   ],
   "source": [
    "X.isnull().any()"
   ]
  },
  {
   "cell_type": "code",
   "execution_count": 46,
   "metadata": {},
   "outputs": [],
   "source": [
    "\n",
    "# training the model on training set \n",
    "from sklearn.svm import SVC\n",
    "from sklearn.tree import DecisionTreeClassifier\n",
    "from sklearn.neural_network import MLPClassifier\n",
    "from sklearn.neighbors import KNeighborsClassifier\n",
    "from sklearn.linear_model import LogisticRegression\n",
    "from sklearn.naive_bayes import GaussianNB \n",
    "\n",
    "from sklearn.model_selection import train_test_split \n",
    "from sklearn import metrics \n",
    "\n",
    "knn = KNeighborsClassifier()\n",
    "dt = DecisionTreeClassifier() \n",
    "gnb = GaussianNB() \n",
    "logreg = LogisticRegression()\n",
    "svc = SVC()\n",
    "neural = MLPClassifier()"
   ]
  },
  {
   "cell_type": "code",
   "execution_count": 47,
   "metadata": {},
   "outputs": [],
   "source": [
    "\n",
    "# splitting X and y into training and testing sets \n",
    "X_train, X_test, y_train, y_test = train_test_split(X, y, test_size=0.25, random_state=5) "
   ]
  },
  {
   "cell_type": "code",
   "execution_count": 53,
   "metadata": {},
   "outputs": [
    {
     "name": "stdout",
     "output_type": "stream",
     "text": [
      "KNN model accuracy(in %): 94.73684210526315\n"
     ]
    }
   ],
   "source": [
    "knn.fit(X_train, y_train) \n",
    "y_pred = knn.predict(X_test) \n",
    "print(\"KNN model accuracy(in %):\", metrics.accuracy_score(y_test, y_pred)*100)"
   ]
  },
  {
   "cell_type": "code",
   "execution_count": 52,
   "metadata": {},
   "outputs": [
    {
     "name": "stdout",
     "output_type": "stream",
     "text": [
      "Decision Tree model accuracy(in %): 94.73684210526315\n"
     ]
    }
   ],
   "source": [
    "dt.fit(X_train, y_train) \n",
    "y_pred = dt.predict(X_test) \n",
    "print(\"Decision Tree model accuracy(in %):\", metrics.accuracy_score(y_test, y_pred)*100)"
   ]
  },
  {
   "cell_type": "code",
   "execution_count": 51,
   "metadata": {},
   "outputs": [
    {
     "name": "stdout",
     "output_type": "stream",
     "text": [
      "Gaussian Naive Bayes model accuracy(in %): 92.10526315789474\n"
     ]
    }
   ],
   "source": [
    "gnb.fit(X_train, y_train) \n",
    "y_pred = gnb.predict(X_test) \n",
    "print(\"Gaussian Naive Bayes model accuracy(in %):\", metrics.accuracy_score(y_test, y_pred)*100)"
   ]
  },
  {
   "cell_type": "code",
   "execution_count": 54,
   "metadata": {},
   "outputs": [
    {
     "name": "stdout",
     "output_type": "stream",
     "text": [
      "Logistic Regression model accuracy(in %): 92.10526315789474\n"
     ]
    }
   ],
   "source": [
    "logreg.fit(X_train, y_train) \n",
    "y_pred = logreg.predict(X_test) \n",
    "print(\"Logistic Regression model accuracy(in %):\", metrics.accuracy_score(y_test, y_pred)*100)"
   ]
  },
  {
   "cell_type": "code",
   "execution_count": 55,
   "metadata": {},
   "outputs": [
    {
     "name": "stdout",
     "output_type": "stream",
     "text": [
      "SVM model accuracy(in %): 97.36842105263158\n"
     ]
    }
   ],
   "source": [
    "svc.fit(X_train, y_train) \n",
    "y_pred = svc.predict(X_test) \n",
    "print(\"SVM model accuracy(in %):\", metrics.accuracy_score(y_test, y_pred)*100)"
   ]
  },
  {
   "cell_type": "code",
   "execution_count": 56,
   "metadata": {},
   "outputs": [
    {
     "name": "stdout",
     "output_type": "stream",
     "text": [
      "ANN model accuracy(in %): 92.10526315789474\n"
     ]
    }
   ],
   "source": [
    "neural.fit(X_train, y_train) \n",
    "y_pred = neural.predict(X_test) \n",
    "print(\"ANN model accuracy(in %):\", metrics.accuracy_score(y_test, y_pred)*100)"
   ]
  },
  {
   "cell_type": "code",
   "execution_count": null,
   "metadata": {},
   "outputs": [],
   "source": []
  },
  {
   "cell_type": "code",
   "execution_count": null,
   "metadata": {},
   "outputs": [],
   "source": [
    "knn = KNeighborsClassifier()\n",
    "dt = DecisionTreeClassifier() \n",
    "gnb = GaussianNB() \n",
    "logreg = LogisticRegression()\n",
    "svc = SVC()\n",
    "neural = MLPClassifier()\n",
    "models = [KNeighborsClassifier(), DecisionTreeClassifier(), GaussianNB(), LogisticRegression(),\\\n",
    "          SVC(), MLPClassifier()]\n",
    "\n",
    "\n",
    "# Creating lists of the algorithms, to store the accuracy scores of each fold\n",
    "#\n",
    "knn, dt, gnb, logreg, svc, neural= ([] for x in range(6))\n",
    "\n",
    "\n",
    "# Creating a list containig the list of each algorithm. Created for easy iteration\n",
    "#\n",
    "model_list = [knn, dt, gnb, logreg, svc, neural]\n",
    "\n",
    "\n",
    "# Spliting the data into features and the target variable\n",
    "#\n",
    "\n",
    "\n",
    "# Creating a cross validation of 10 folds\n",
    "#\n",
    "kfold  = KFold(n_splits=10, random_state=101)\n",
    "\n",
    "\n",
    "# Iterating through each model and appending the scores of each fold to the appriopriate list\n",
    "#\n",
    "for i, j in zip(models, model_list):\n",
    "  j.extend(list(cross_val_score(i, X, y, scoring = 'neg_mean_squared_error', cv = kfold)))\n",
    "\n",
    "  \n",
    "# Creating a function to convert neg_mean_squared_error to a square root\n",
    "#\n",
    "def sq(lis):\n",
    "  new_lis = []\n",
    "  lis = np.array(lis)\n",
    "  for i in lis:\n",
    "    i = np.sqrt(i*-1)\n",
    "    new_lis.append(i)\n",
    "  return new_lis\n",
    "\n",
    "\n",
    "# Creating a dataframe of all the rmses from the iterations for each model\n",
    "#\n",
    "rmses = pd.DataFrame({'Fold': np.arange(1, 11), 'knn': sq(knn), 'dt': sq(dt), 'Neive': sq(gnb), 'DecisionTree': sq(dt),\\\n",
    "                       'logreg': sq(logreg), 'svc': sq(svc), 'neural': sq(neural)})\n",
    "\n",
    "# Setting the index\n",
    "#\n",
    "rmses.set_index('Fold', inplace = True)\n",
    "\n",
    "\n",
    "# Calculating the mean and standard deviation rmse of each algorithm\n",
    "#\n",
    "rmses.loc['mean'] = rmses.mean()\n",
    "rmses.loc['std'] = rmses.std()\n",
    "\n",
    "\n",
    "# Previewing the rmses dataframe\n",
    "#\n",
    "rmses"
   ]
  }
 ],
 "metadata": {
  "kernelspec": {
   "display_name": "Python 3",
   "language": "python",
   "name": "python3"
  },
  "language_info": {
   "codemirror_mode": {
    "name": "ipython",
    "version": 3
   },
   "file_extension": ".py",
   "mimetype": "text/x-python",
   "name": "python",
   "nbconvert_exporter": "python",
   "pygments_lexer": "ipython3",
   "version": "3.6.9"
  }
 },
 "nbformat": 4,
 "nbformat_minor": 2
}
