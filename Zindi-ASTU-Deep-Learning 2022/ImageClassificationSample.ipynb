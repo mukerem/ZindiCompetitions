{
 "cells": [
  {
   "cell_type": "code",
   "execution_count": 1,
   "id": "ca801603",
   "metadata": {},
   "outputs": [
    {
     "name": "stderr",
     "output_type": "stream",
     "text": [
      "2022-01-28 17:56:00.462958: W tensorflow/stream_executor/platform/default/dso_loader.cc:64] Could not load dynamic library 'libcudart.so.11.0'; dlerror: libcudart.so.11.0: cannot open shared object file: No such file or directory\n",
      "2022-01-28 17:56:00.462985: I tensorflow/stream_executor/cuda/cudart_stub.cc:29] Ignore above cudart dlerror if you do not have a GPU set up on your machine.\n"
     ]
    }
   ],
   "source": [
    "# Importing all necessary libraries\n",
    "from keras.preprocessing.image import ImageDataGenerator\n",
    "from keras.models import Sequential\n",
    "from keras.layers import Conv2D, MaxPooling2D\n",
    "from keras.layers import Activation, Dropout, Flatten, Dense\n",
    "from keras import backend as K\n",
    " \n",
    "img_width, img_height = 224, 224"
   ]
  },
  {
   "cell_type": "code",
   "execution_count": 7,
   "id": "99ba2f89",
   "metadata": {},
   "outputs": [],
   "source": [
    "train_data_dir = 'data/v_data/train'\n",
    "validation_data_dir = 'data/v_data/test'\n",
    "nb_train_samples =400\n",
    "nb_validation_samples = 100\n",
    "epochs = 10\n",
    "batch_size = 16"
   ]
  },
  {
   "cell_type": "code",
   "execution_count": 3,
   "id": "0bc4ce8a",
   "metadata": {},
   "outputs": [],
   "source": [
    "\n",
    "if K.image_data_format() == 'channels_first':\n",
    "    input_shape = (3, img_width, img_height)\n",
    "else:\n",
    "    input_shape = (img_width, img_height, 3)"
   ]
  },
  {
   "cell_type": "code",
   "execution_count": 58,
   "id": "82823d38",
   "metadata": {},
   "outputs": [],
   "source": [
    "model = Sequential()\n",
    "model.add(Conv2D(32, (2, 2), input_shape=input_shape))\n",
    "model.add(Activation('relu'))\n",
    "model.add(MaxPooling2D(pool_size=(2, 2)))\n",
    " \n",
    "model.add(Conv2D(32, (2, 2)))\n",
    "model.add(Activation('relu'))\n",
    "model.add(MaxPooling2D(pool_size=(2, 2)))\n",
    " \n",
    "model.add(Conv2D(64, (2, 2)))\n",
    "model.add(Activation('relu'))\n",
    "model.add(MaxPooling2D(pool_size=(2, 2)))\n",
    " \n",
    "model.add(Flatten())\n",
    "model.add(Dense(64))\n",
    "model.add(Activation('relu'))\n",
    "model.add(Dropout(0.5))\n",
    "model.add(Dense(1))\n",
    "model.add(Activation('sigmoid'))"
   ]
  },
  {
   "cell_type": "code",
   "execution_count": 59,
   "id": "12d29e4d",
   "metadata": {},
   "outputs": [],
   "source": [
    "model.compile(loss='binary_crossentropy',\n",
    "              optimizer='rmsprop',\n",
    "              metrics=['accuracy'])"
   ]
  },
  {
   "cell_type": "code",
   "execution_count": 60,
   "id": "8bf16a16",
   "metadata": {},
   "outputs": [
    {
     "name": "stdout",
     "output_type": "stream",
     "text": [
      "Found 400 images belonging to 2 classes.\n",
      "Found 100 images belonging to 2 classes.\n"
     ]
    },
    {
     "name": "stderr",
     "output_type": "stream",
     "text": [
      "/tmp/ipykernel_181822/3119093969.py:21: UserWarning: `Model.fit_generator` is deprecated and will be removed in a future version. Please use `Model.fit`, which supports generators.\n",
      "  model.fit_generator(\n"
     ]
    },
    {
     "name": "stdout",
     "output_type": "stream",
     "text": [
      "Epoch 1/10\n",
      "25/25 [==============================] - 19s 714ms/step - loss: 0.8328 - accuracy: 0.6375 - val_loss: 0.5343 - val_accuracy: 0.6562\n",
      "Epoch 2/10\n",
      "25/25 [==============================] - 19s 769ms/step - loss: 0.5548 - accuracy: 0.7500 - val_loss: 0.3812 - val_accuracy: 0.9062\n",
      "Epoch 3/10\n",
      "25/25 [==============================] - 19s 731ms/step - loss: 0.4213 - accuracy: 0.8225 - val_loss: 0.4731 - val_accuracy: 0.7396\n",
      "Epoch 4/10\n",
      "25/25 [==============================] - 18s 715ms/step - loss: 0.4314 - accuracy: 0.8175 - val_loss: 0.3717 - val_accuracy: 0.8438\n",
      "Epoch 5/10\n",
      "25/25 [==============================] - 18s 705ms/step - loss: 0.3548 - accuracy: 0.8550 - val_loss: 0.3067 - val_accuracy: 0.8854\n",
      "Epoch 6/10\n",
      "25/25 [==============================] - 18s 727ms/step - loss: 0.3083 - accuracy: 0.8750 - val_loss: 0.2803 - val_accuracy: 0.8750\n",
      "Epoch 7/10\n",
      "25/25 [==============================] - 19s 749ms/step - loss: 0.3459 - accuracy: 0.8725 - val_loss: 0.4280 - val_accuracy: 0.8021\n",
      "Epoch 8/10\n",
      "25/25 [==============================] - 22s 893ms/step - loss: 0.2808 - accuracy: 0.8925 - val_loss: 0.2339 - val_accuracy: 0.8958\n",
      "Epoch 9/10\n",
      "25/25 [==============================] - 19s 750ms/step - loss: 0.2843 - accuracy: 0.8925 - val_loss: 0.2522 - val_accuracy: 0.9062\n",
      "Epoch 10/10\n",
      "25/25 [==============================] - 18s 720ms/step - loss: 0.2384 - accuracy: 0.9200 - val_loss: 0.2851 - val_accuracy: 0.8438\n"
     ]
    },
    {
     "data": {
      "text/plain": [
       "<keras.callbacks.History at 0x7fcd453c7640>"
      ]
     },
     "execution_count": 60,
     "metadata": {},
     "output_type": "execute_result"
    }
   ],
   "source": [
    "train_datagen = ImageDataGenerator(\n",
    "    rescale=1. / 255,\n",
    "    shear_range=0.2,\n",
    "    zoom_range=0.2,\n",
    "    horizontal_flip=True)\n",
    " \n",
    "test_datagen = ImageDataGenerator(rescale=1. / 255)\n",
    " \n",
    "train_generator = train_datagen.flow_from_directory(\n",
    "    train_data_dir,\n",
    "    target_size=(img_width, img_height),\n",
    "    batch_size=batch_size,\n",
    "    class_mode='binary')\n",
    " \n",
    "validation_generator = test_datagen.flow_from_directory(\n",
    "    validation_data_dir,\n",
    "    target_size=(img_width, img_height),\n",
    "    batch_size=batch_size,\n",
    "    class_mode='binary')\n",
    " \n",
    "model.fit_generator(\n",
    "    train_generator,\n",
    "    steps_per_epoch=nb_train_samples // batch_size,\n",
    "    epochs=epochs,\n",
    "    validation_data=validation_generator,\n",
    "    validation_steps=nb_validation_samples // batch_size)"
   ]
  },
  {
   "cell_type": "code",
   "execution_count": 61,
   "id": "da7a4e0b",
   "metadata": {},
   "outputs": [],
   "source": [
    "model.save('saved_model.h5')"
   ]
  },
  {
   "cell_type": "code",
   "execution_count": 64,
   "id": "101e9e81",
   "metadata": {},
   "outputs": [
    {
     "name": "stdout",
     "output_type": "stream",
     "text": [
      "Predicted Class (0 - Cars , 1- Planes):  0.6901742\n"
     ]
    }
   ],
   "source": [
    "from keras.models import load_model\n",
    "from keras.preprocessing.image import load_img\n",
    "from keras.preprocessing.image import img_to_array\n",
    "from keras.applications.vgg16 import preprocess_input\n",
    "from keras.applications.vgg16 import decode_predictions\n",
    "from keras.applications.vgg16 import VGG16\n",
    "import numpy as np\n",
    "\n",
    "image = load_img('data/v_data/test/planes/5.jpg', target_size=(224, 224))\n",
    "img = np.array(image)\n",
    "img = img / 255.0\n",
    "img = img.reshape(1,224,224,3)\n",
    "label = model.predict(img)\n",
    "print(\"Predicted Class (0 - Cars , 1- Planes): \", label[0][0])"
   ]
  },
  {
   "cell_type": "code",
   "execution_count": 65,
   "id": "f01c7ce3",
   "metadata": {},
   "outputs": [
    {
     "name": "stdout",
     "output_type": "stream",
     "text": [
      "Predicted Class (0 - Cars , 1- Planes):  0.6901742\n"
     ]
    }
   ],
   "source": [
    "saved_model = load_model('saved_model.h5')\n",
    " \n",
    "image = load_img('data/v_data/test/planes/5.jpg', target_size=(224, 224))\n",
    "img = np.array(image)\n",
    "img = img / 255.0\n",
    "img = img.reshape(1,224,224,3)\n",
    "label = saved_model.predict(img)\n",
    "print(\"Predicted Class (0 - Cars , 1- Planes): \", label[0][0])"
   ]
  },
  {
   "cell_type": "code",
   "execution_count": 136,
   "id": "57bb570e",
   "metadata": {},
   "outputs": [
    {
     "data": {
      "text/html": [
       "<div>\n",
       "<style scoped>\n",
       "    .dataframe tbody tr th:only-of-type {\n",
       "        vertical-align: middle;\n",
       "    }\n",
       "\n",
       "    .dataframe tbody tr th {\n",
       "        vertical-align: top;\n",
       "    }\n",
       "\n",
       "    .dataframe thead th {\n",
       "        text-align: right;\n",
       "    }\n",
       "</style>\n",
       "<table border=\"1\" class=\"dataframe\">\n",
       "  <thead>\n",
       "    <tr style=\"text-align: right;\">\n",
       "      <th></th>\n",
       "      <th>ID</th>\n",
       "      <th>predict</th>\n",
       "    </tr>\n",
       "  </thead>\n",
       "  <tbody>\n",
       "    <tr>\n",
       "      <th>0</th>\n",
       "      <td>1</td>\n",
       "      <td>3.349811e-03</td>\n",
       "    </tr>\n",
       "    <tr>\n",
       "      <th>1</th>\n",
       "      <td>2</td>\n",
       "      <td>9.336472e-04</td>\n",
       "    </tr>\n",
       "    <tr>\n",
       "      <th>2</th>\n",
       "      <td>3</td>\n",
       "      <td>3.797412e-04</td>\n",
       "    </tr>\n",
       "    <tr>\n",
       "      <th>3</th>\n",
       "      <td>4</td>\n",
       "      <td>2.337992e-04</td>\n",
       "    </tr>\n",
       "    <tr>\n",
       "      <th>4</th>\n",
       "      <td>5</td>\n",
       "      <td>4.339977e-07</td>\n",
       "    </tr>\n",
       "  </tbody>\n",
       "</table>\n",
       "</div>"
      ],
      "text/plain": [
       "   ID       predict\n",
       "0   1  3.349811e-03\n",
       "1   2  9.336472e-04\n",
       "2   3  3.797412e-04\n",
       "3   4  2.337992e-04\n",
       "4   5  4.339977e-07"
      ]
     },
     "execution_count": 136,
     "metadata": {},
     "output_type": "execute_result"
    }
   ],
   "source": [
    "import os\n",
    "import pandas as pd\n",
    "\n",
    "submission_df = pd.DataFrame()\n",
    "submission_df[\"ID\"] = []\n",
    "submission_df[\"predict\"] = []\n",
    "\n",
    "car_dir = \"data/v_data/test/cars/\"\n",
    "for i, path in enumerate(os.listdir(car_dir)):\n",
    "    image = load_img(os.path.join(car_dir, path), target_size=(224, 224))\n",
    "    img = np.array(image)\n",
    "    img = img / 255.0\n",
    "    img = img.reshape(1,224,224,3)\n",
    "    label = saved_model.predict(img)\n",
    "    submission_df = submission_df.append(pd.Series([int(i+1),label[0][0]], index=[\"ID\", \"predict\"]), ignore_index=True) # Creating a submission file\n",
    "# submission_df[\"predict\"].round(4) \n",
    "submission_df[\"ID\"] = submission_df[\"ID\"].astype(int)\n",
    "submission_df.to_csv('test_car.csv', index = False)\n",
    "submission_df.head()"
   ]
  },
  {
   "cell_type": "code",
   "execution_count": 137,
   "id": "8be8fe7b",
   "metadata": {},
   "outputs": [
    {
     "data": {
      "text/html": [
       "<div>\n",
       "<style scoped>\n",
       "    .dataframe tbody tr th:only-of-type {\n",
       "        vertical-align: middle;\n",
       "    }\n",
       "\n",
       "    .dataframe tbody tr th {\n",
       "        vertical-align: top;\n",
       "    }\n",
       "\n",
       "    .dataframe thead th {\n",
       "        text-align: right;\n",
       "    }\n",
       "</style>\n",
       "<table border=\"1\" class=\"dataframe\">\n",
       "  <thead>\n",
       "    <tr style=\"text-align: right;\">\n",
       "      <th></th>\n",
       "      <th>ID</th>\n",
       "      <th>predict</th>\n",
       "    </tr>\n",
       "  </thead>\n",
       "  <tbody>\n",
       "    <tr>\n",
       "      <th>0</th>\n",
       "      <td>1</td>\n",
       "      <td>0.114071</td>\n",
       "    </tr>\n",
       "    <tr>\n",
       "      <th>1</th>\n",
       "      <td>2</td>\n",
       "      <td>0.989791</td>\n",
       "    </tr>\n",
       "    <tr>\n",
       "      <th>2</th>\n",
       "      <td>3</td>\n",
       "      <td>0.964984</td>\n",
       "    </tr>\n",
       "    <tr>\n",
       "      <th>3</th>\n",
       "      <td>4</td>\n",
       "      <td>0.860722</td>\n",
       "    </tr>\n",
       "    <tr>\n",
       "      <th>4</th>\n",
       "      <td>5</td>\n",
       "      <td>0.960105</td>\n",
       "    </tr>\n",
       "  </tbody>\n",
       "</table>\n",
       "</div>"
      ],
      "text/plain": [
       "   ID   predict\n",
       "0   1  0.114071\n",
       "1   2  0.989791\n",
       "2   3  0.964984\n",
       "3   4  0.860722\n",
       "4   5  0.960105"
      ]
     },
     "execution_count": 137,
     "metadata": {},
     "output_type": "execute_result"
    }
   ],
   "source": [
    "submission_df = pd.DataFrame()\n",
    "submission_df[\"ID\"] = []\n",
    "submission_df[\"predict\"] = []\n",
    "\n",
    "plane_dir = \"data/v_data/test/planes/\"\n",
    "for i, path in enumerate(os.listdir(plane_dir)):\n",
    "    image = load_img(os.path.join(plane_dir, path), target_size=(224, 224))\n",
    "    img = np.array(image)\n",
    "    img = img / 255.0\n",
    "    img = img.reshape(1,224,224,3)\n",
    "    label = saved_model.predict(img)\n",
    "    submission_df = submission_df.append(pd.Series([int(i+1),label[0][0]], index=[\"ID\", \"predict\"]), ignore_index=True) # Creating a submission file\n",
    "# submission_df[\"predict\"].round(4) \n",
    "submission_df[\"ID\"] = submission_df[\"ID\"].astype(int)\n",
    "submission_df.to_csv('test_plane.csv', index = False)\n",
    "submission_df.head()"
   ]
  },
  {
   "cell_type": "code",
   "execution_count": 92,
   "id": "70361c30",
   "metadata": {},
   "outputs": [
    {
     "name": "stdout",
     "output_type": "stream",
     "text": [
      "Model: \"sequential_5\"\n",
      "_________________________________________________________________\n",
      " Layer (type)                Output Shape              Param #   \n",
      "=================================================================\n",
      " conv2d_15 (Conv2D)          (None, 223, 223, 32)      416       \n",
      "                                                                 \n",
      " activation_25 (Activation)  (None, 223, 223, 32)      0         \n",
      "                                                                 \n",
      " max_pooling2d_15 (MaxPoolin  (None, 111, 111, 32)     0         \n",
      " g2D)                                                            \n",
      "                                                                 \n",
      " conv2d_16 (Conv2D)          (None, 110, 110, 32)      4128      \n",
      "                                                                 \n",
      " activation_26 (Activation)  (None, 110, 110, 32)      0         \n",
      "                                                                 \n",
      " max_pooling2d_16 (MaxPoolin  (None, 55, 55, 32)       0         \n",
      " g2D)                                                            \n",
      "                                                                 \n",
      " conv2d_17 (Conv2D)          (None, 54, 54, 64)        8256      \n",
      "                                                                 \n",
      " activation_27 (Activation)  (None, 54, 54, 64)        0         \n",
      "                                                                 \n",
      " max_pooling2d_17 (MaxPoolin  (None, 27, 27, 64)       0         \n",
      " g2D)                                                            \n",
      "                                                                 \n",
      " flatten_5 (Flatten)         (None, 46656)             0         \n",
      "                                                                 \n",
      " dense_10 (Dense)            (None, 64)                2986048   \n",
      "                                                                 \n",
      " activation_28 (Activation)  (None, 64)                0         \n",
      "                                                                 \n",
      " dropout_5 (Dropout)         (None, 64)                0         \n",
      "                                                                 \n",
      " dense_11 (Dense)            (None, 1)                 65        \n",
      "                                                                 \n",
      " activation_29 (Activation)  (None, 1)                 0         \n",
      "                                                                 \n",
      "=================================================================\n",
      "Total params: 2,998,913\n",
      "Trainable params: 2,998,913\n",
      "Non-trainable params: 0\n",
      "_________________________________________________________________\n"
     ]
    }
   ],
   "source": [
    "model.summary()"
   ]
  },
  {
   "cell_type": "code",
   "execution_count": 124,
   "id": "868207a9",
   "metadata": {},
   "outputs": [],
   "source": [
    "pd.reset_option(\"display.float_format\")"
   ]
  },
  {
   "cell_type": "code",
   "execution_count": null,
   "id": "c23a817a",
   "metadata": {},
   "outputs": [],
   "source": []
  },
  {
   "cell_type": "code",
   "execution_count": null,
   "id": "995e233c",
   "metadata": {},
   "outputs": [],
   "source": []
  },
  {
   "cell_type": "code",
   "execution_count": null,
   "id": "7718e1d0",
   "metadata": {},
   "outputs": [],
   "source": []
  }
 ],
 "metadata": {
  "kernelspec": {
   "display_name": "venv",
   "language": "python",
   "name": "venv"
  },
  "language_info": {
   "codemirror_mode": {
    "name": "ipython",
    "version": 3
   },
   "file_extension": ".py",
   "mimetype": "text/x-python",
   "name": "python",
   "nbconvert_exporter": "python",
   "pygments_lexer": "ipython3",
   "version": "3.8.10"
  }
 },
 "nbformat": 4,
 "nbformat_minor": 5
}
