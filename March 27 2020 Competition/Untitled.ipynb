{
 "cells": [
  {
   "cell_type": "markdown",
   "metadata": {
    "id": "47_7sBsU8JYt"
   },
   "source": [
    "## UmojaHack Africa 2021 #3: Financial Resilience Challenge (BEGINNER) by UmojaHack Africa\n",
    "\n",
    "Can you predict if an individual will be able to make a payment in an emergency situation?\n",
    "\n",
    "The objective of this challenge is to build a machine learning model to predict which individuals across Africa and around the world are most likely to be financially resilient.\n",
    "\n",
    "\n",
    "![Umoja Hack](https://zindpublic.blob.core.windows.net/public/uploads/competition/image/151/thumb_cdf71374-9857-44bb-8216-5f8c67afb51f.png)\n",
    "\n",
    "This is a simple Python starter notebook to get you started with the Financial Resilience Challenge.\n",
    "\n",
    "This notebook covers:\n",
    "- Loading the data\n",
    "- Simple EDA and an example of feature enginnering\n",
    "- Data preprocessing and data wrangling\n",
    "- Creating a simple model\n",
    "- Making a submission\n",
    "- Some tips for improving your score"
   ]
  },
  {
   "cell_type": "code",
   "execution_count": 1,
   "metadata": {
    "id": "GsxsCJyNFxBZ"
   },
   "outputs": [],
   "source": [
    "# Import libraries\n",
    "import pandas as pd\n",
    "import numpy as np\n",
    "import matplotlib.pyplot as plt\n",
    "import seaborn as sns\n",
    "from sklearn.metrics import auc, classification_report, roc_auc_score\n",
    "from sklearn.model_selection import train_test_split\n",
    "from lightgbm import LGBMClassifier\n",
    "from sklearn.ensemble import RandomForestClassifier\n",
    "pd.set_option('max_colwidth', 500)\n",
    "%matplotlib inline\n",
    "import warnings\n",
    "warnings.filterwarnings('ignore')"
   ]
  },
  {
   "cell_type": "code",
   "execution_count": 2,
   "metadata": {
    "id": "0_7BVS92U0Ti"
   },
   "outputs": [],
   "source": [
    "# Load files\n",
    "train = pd.read_csv('Train.csv')\n",
    "test = pd.read_csv('Test.csv')\n",
    "samplesubmission = pd.read_csv('SampleSubmission.csv')\n",
    "variable_definations = pd.read_csv('VariableDefinitions.csv')"
   ]
  },
  {
   "cell_type": "code",
   "execution_count": 3,
   "metadata": {
    "colab": {
     "base_uri": "https://localhost:8080/",
     "height": 635
    },
    "id": "f_LhTb6nU0Se",
    "outputId": "b9882c53-9626-41b1-da7e-0299c7d2a3f6"
   },
   "outputs": [
    {
     "data": {
      "text/html": [
       "<div>\n",
       "<style scoped>\n",
       "    .dataframe tbody tr th:only-of-type {\n",
       "        vertical-align: middle;\n",
       "    }\n",
       "\n",
       "    .dataframe tbody tr th {\n",
       "        vertical-align: top;\n",
       "    }\n",
       "\n",
       "    .dataframe thead th {\n",
       "        text-align: right;\n",
       "    }\n",
       "</style>\n",
       "<table border=\"1\" class=\"dataframe\">\n",
       "  <thead>\n",
       "    <tr style=\"text-align: right;\">\n",
       "      <th></th>\n",
       "      <th>ID</th>\n",
       "      <th>country</th>\n",
       "      <th>region</th>\n",
       "      <th>population</th>\n",
       "      <th>age</th>\n",
       "      <th>Q1</th>\n",
       "      <th>Q2</th>\n",
       "      <th>Q3</th>\n",
       "      <th>Q4</th>\n",
       "      <th>Q5</th>\n",
       "      <th>...</th>\n",
       "      <th>Q21</th>\n",
       "      <th>Q22</th>\n",
       "      <th>Q23</th>\n",
       "      <th>Q24</th>\n",
       "      <th>Q25</th>\n",
       "      <th>Q26</th>\n",
       "      <th>Q27</th>\n",
       "      <th>owns_mobile</th>\n",
       "      <th>Q28</th>\n",
       "      <th>target</th>\n",
       "    </tr>\n",
       "  </thead>\n",
       "  <tbody>\n",
       "    <tr>\n",
       "      <th>0</th>\n",
       "      <td>ID_0000020532</td>\n",
       "      <td>Morocco</td>\n",
       "      <td>Middle East &amp; North Africa (excluding high income)</td>\n",
       "      <td>25550170.0</td>\n",
       "      <td>66.0</td>\n",
       "      <td>2</td>\n",
       "      <td>NaN</td>\n",
       "      <td>NaN</td>\n",
       "      <td>NaN</td>\n",
       "      <td>NaN</td>\n",
       "      <td>...</td>\n",
       "      <td>1</td>\n",
       "      <td>2</td>\n",
       "      <td>NaN</td>\n",
       "      <td>1</td>\n",
       "      <td>2</td>\n",
       "      <td>2.0</td>\n",
       "      <td>2.0</td>\n",
       "      <td>1.0</td>\n",
       "      <td>1.0</td>\n",
       "      <td>0</td>\n",
       "    </tr>\n",
       "    <tr>\n",
       "      <th>1</th>\n",
       "      <td>ID_0000075765</td>\n",
       "      <td>Lebanon</td>\n",
       "      <td>Middle East &amp; North Africa (excluding high income)</td>\n",
       "      <td>4591023.0</td>\n",
       "      <td>44.0</td>\n",
       "      <td>2</td>\n",
       "      <td>NaN</td>\n",
       "      <td>NaN</td>\n",
       "      <td>2.0</td>\n",
       "      <td>2.0</td>\n",
       "      <td>...</td>\n",
       "      <td>1</td>\n",
       "      <td>2</td>\n",
       "      <td>NaN</td>\n",
       "      <td>2</td>\n",
       "      <td>2</td>\n",
       "      <td>2.0</td>\n",
       "      <td>1.0</td>\n",
       "      <td>1.0</td>\n",
       "      <td>1.0</td>\n",
       "      <td>1</td>\n",
       "    </tr>\n",
       "    <tr>\n",
       "      <th>2</th>\n",
       "      <td>ID_0000085491</td>\n",
       "      <td>Morocco</td>\n",
       "      <td>Middle East &amp; North Africa (excluding high income)</td>\n",
       "      <td>25550170.0</td>\n",
       "      <td>29.0</td>\n",
       "      <td>1</td>\n",
       "      <td>1.0</td>\n",
       "      <td>1.0</td>\n",
       "      <td>2.0</td>\n",
       "      <td>2.0</td>\n",
       "      <td>...</td>\n",
       "      <td>1</td>\n",
       "      <td>1</td>\n",
       "      <td>2.0</td>\n",
       "      <td>2</td>\n",
       "      <td>2</td>\n",
       "      <td>2.0</td>\n",
       "      <td>NaN</td>\n",
       "      <td>1.0</td>\n",
       "      <td>1.0</td>\n",
       "      <td>0</td>\n",
       "    </tr>\n",
       "    <tr>\n",
       "      <th>3</th>\n",
       "      <td>ID_0000144505</td>\n",
       "      <td>Canada</td>\n",
       "      <td>High income: OECD</td>\n",
       "      <td>30491168.0</td>\n",
       "      <td>44.0</td>\n",
       "      <td>1</td>\n",
       "      <td>1.0</td>\n",
       "      <td>1.0</td>\n",
       "      <td>1.0</td>\n",
       "      <td>1.0</td>\n",
       "      <td>...</td>\n",
       "      <td>1</td>\n",
       "      <td>1</td>\n",
       "      <td>2.0</td>\n",
       "      <td>1</td>\n",
       "      <td>2</td>\n",
       "      <td>NaN</td>\n",
       "      <td>NaN</td>\n",
       "      <td>1.0</td>\n",
       "      <td>NaN</td>\n",
       "      <td>1</td>\n",
       "    </tr>\n",
       "    <tr>\n",
       "      <th>4</th>\n",
       "      <td>ID_0000214184</td>\n",
       "      <td>Mexico</td>\n",
       "      <td>Latin America &amp; Caribbean (excluding high income)</td>\n",
       "      <td>93002320.0</td>\n",
       "      <td>36.0</td>\n",
       "      <td>2</td>\n",
       "      <td>NaN</td>\n",
       "      <td>NaN</td>\n",
       "      <td>NaN</td>\n",
       "      <td>NaN</td>\n",
       "      <td>...</td>\n",
       "      <td>1</td>\n",
       "      <td>2</td>\n",
       "      <td>NaN</td>\n",
       "      <td>1</td>\n",
       "      <td>2</td>\n",
       "      <td>2.0</td>\n",
       "      <td>2.0</td>\n",
       "      <td>1.0</td>\n",
       "      <td>1.0</td>\n",
       "      <td>1</td>\n",
       "    </tr>\n",
       "  </tbody>\n",
       "</table>\n",
       "<p>5 rows × 36 columns</p>\n",
       "</div>"
      ],
      "text/plain": [
       "              ID  country                                              region  \\\n",
       "0  ID_0000020532  Morocco  Middle East & North Africa (excluding high income)   \n",
       "1  ID_0000075765  Lebanon  Middle East & North Africa (excluding high income)   \n",
       "2  ID_0000085491  Morocco  Middle East & North Africa (excluding high income)   \n",
       "3  ID_0000144505   Canada                                   High income: OECD   \n",
       "4  ID_0000214184   Mexico   Latin America & Caribbean (excluding high income)   \n",
       "\n",
       "   population   age  Q1   Q2   Q3   Q4   Q5  ...  Q21  Q22  Q23  Q24  Q25  \\\n",
       "0  25550170.0  66.0   2  NaN  NaN  NaN  NaN  ...    1    2  NaN    1    2   \n",
       "1   4591023.0  44.0   2  NaN  NaN  2.0  2.0  ...    1    2  NaN    2    2   \n",
       "2  25550170.0  29.0   1  1.0  1.0  2.0  2.0  ...    1    1  2.0    2    2   \n",
       "3  30491168.0  44.0   1  1.0  1.0  1.0  1.0  ...    1    1  2.0    1    2   \n",
       "4  93002320.0  36.0   2  NaN  NaN  NaN  NaN  ...    1    2  NaN    1    2   \n",
       "\n",
       "   Q26  Q27  owns_mobile  Q28  target  \n",
       "0  2.0  2.0          1.0  1.0       0  \n",
       "1  2.0  1.0          1.0  1.0       1  \n",
       "2  2.0  NaN          1.0  1.0       0  \n",
       "3  NaN  NaN          1.0  NaN       1  \n",
       "4  2.0  2.0          1.0  1.0       1  \n",
       "\n",
       "[5 rows x 36 columns]"
      ]
     },
     "execution_count": 3,
     "metadata": {},
     "output_type": "execute_result"
    }
   ],
   "source": [
    "# Preview the first five rows of the train set\n",
    "train.head()"
   ]
  },
  {
   "cell_type": "code",
   "execution_count": 4,
   "metadata": {
    "colab": {
     "base_uri": "https://localhost:8080/",
     "height": 602
    },
    "id": "c0KotvwrU0PP",
    "outputId": "9eef902c-3d8e-47a9-a340-6bc9c7aae1a0"
   },
   "outputs": [
    {
     "data": {
      "text/html": [
       "<div>\n",
       "<style scoped>\n",
       "    .dataframe tbody tr th:only-of-type {\n",
       "        vertical-align: middle;\n",
       "    }\n",
       "\n",
       "    .dataframe tbody tr th {\n",
       "        vertical-align: top;\n",
       "    }\n",
       "\n",
       "    .dataframe thead th {\n",
       "        text-align: right;\n",
       "    }\n",
       "</style>\n",
       "<table border=\"1\" class=\"dataframe\">\n",
       "  <thead>\n",
       "    <tr style=\"text-align: right;\">\n",
       "      <th></th>\n",
       "      <th>ID</th>\n",
       "      <th>country</th>\n",
       "      <th>region</th>\n",
       "      <th>population</th>\n",
       "      <th>age</th>\n",
       "      <th>Q1</th>\n",
       "      <th>Q2</th>\n",
       "      <th>Q3</th>\n",
       "      <th>Q4</th>\n",
       "      <th>Q5</th>\n",
       "      <th>...</th>\n",
       "      <th>Q20</th>\n",
       "      <th>Q21</th>\n",
       "      <th>Q22</th>\n",
       "      <th>Q23</th>\n",
       "      <th>Q24</th>\n",
       "      <th>Q25</th>\n",
       "      <th>Q26</th>\n",
       "      <th>Q27</th>\n",
       "      <th>owns_mobile</th>\n",
       "      <th>Q28</th>\n",
       "    </tr>\n",
       "  </thead>\n",
       "  <tbody>\n",
       "    <tr>\n",
       "      <th>0</th>\n",
       "      <td>ID_0000005111</td>\n",
       "      <td>Croatia</td>\n",
       "      <td>Europe &amp; Central Asia (excluding high income)</td>\n",
       "      <td>3557444.5</td>\n",
       "      <td>62.0</td>\n",
       "      <td>2</td>\n",
       "      <td>NaN</td>\n",
       "      <td>NaN</td>\n",
       "      <td>2.0</td>\n",
       "      <td>2.0</td>\n",
       "      <td>...</td>\n",
       "      <td>2.0</td>\n",
       "      <td>2</td>\n",
       "      <td>1</td>\n",
       "      <td>1.0</td>\n",
       "      <td>2</td>\n",
       "      <td>2</td>\n",
       "      <td>2.0</td>\n",
       "      <td>NaN</td>\n",
       "      <td>1.0</td>\n",
       "      <td>1.0</td>\n",
       "    </tr>\n",
       "    <tr>\n",
       "      <th>1</th>\n",
       "      <td>ID_0000389416</td>\n",
       "      <td>Kazakhstan</td>\n",
       "      <td>Europe &amp; Central Asia (excluding high income)</td>\n",
       "      <td>12920168.0</td>\n",
       "      <td>32.0</td>\n",
       "      <td>2</td>\n",
       "      <td>NaN</td>\n",
       "      <td>NaN</td>\n",
       "      <td>NaN</td>\n",
       "      <td>NaN</td>\n",
       "      <td>...</td>\n",
       "      <td>2.0</td>\n",
       "      <td>2</td>\n",
       "      <td>2</td>\n",
       "      <td>NaN</td>\n",
       "      <td>2</td>\n",
       "      <td>2</td>\n",
       "      <td>2.0</td>\n",
       "      <td>2.0</td>\n",
       "      <td>1.0</td>\n",
       "      <td>2.0</td>\n",
       "    </tr>\n",
       "    <tr>\n",
       "      <th>2</th>\n",
       "      <td>ID_0000634789</td>\n",
       "      <td>Costa Rica</td>\n",
       "      <td>Latin America &amp; Caribbean (excluding high income)</td>\n",
       "      <td>3791520.0</td>\n",
       "      <td>73.0</td>\n",
       "      <td>1</td>\n",
       "      <td>1.0</td>\n",
       "      <td>1.0</td>\n",
       "      <td>2.0</td>\n",
       "      <td>2.0</td>\n",
       "      <td>...</td>\n",
       "      <td>2.0</td>\n",
       "      <td>2</td>\n",
       "      <td>2</td>\n",
       "      <td>NaN</td>\n",
       "      <td>2</td>\n",
       "      <td>1</td>\n",
       "      <td>2.0</td>\n",
       "      <td>1.0</td>\n",
       "      <td>1.0</td>\n",
       "      <td>1.0</td>\n",
       "    </tr>\n",
       "    <tr>\n",
       "      <th>3</th>\n",
       "      <td>ID_0000778100</td>\n",
       "      <td>Japan</td>\n",
       "      <td>High income: OECD</td>\n",
       "      <td>110566824.0</td>\n",
       "      <td>67.0</td>\n",
       "      <td>1</td>\n",
       "      <td>1.0</td>\n",
       "      <td>1.0</td>\n",
       "      <td>1.0</td>\n",
       "      <td>2.0</td>\n",
       "      <td>...</td>\n",
       "      <td>NaN</td>\n",
       "      <td>1</td>\n",
       "      <td>1</td>\n",
       "      <td>2.0</td>\n",
       "      <td>1</td>\n",
       "      <td>1</td>\n",
       "      <td>NaN</td>\n",
       "      <td>NaN</td>\n",
       "      <td>1.0</td>\n",
       "      <td>NaN</td>\n",
       "    </tr>\n",
       "    <tr>\n",
       "      <th>4</th>\n",
       "      <td>ID_0001123210</td>\n",
       "      <td>Morocco</td>\n",
       "      <td>Middle East &amp; North Africa (excluding high income)</td>\n",
       "      <td>25550170.0</td>\n",
       "      <td>32.0</td>\n",
       "      <td>1</td>\n",
       "      <td>1.0</td>\n",
       "      <td>1.0</td>\n",
       "      <td>2.0</td>\n",
       "      <td>2.0</td>\n",
       "      <td>...</td>\n",
       "      <td>1.0</td>\n",
       "      <td>2</td>\n",
       "      <td>2</td>\n",
       "      <td>NaN</td>\n",
       "      <td>2</td>\n",
       "      <td>2</td>\n",
       "      <td>2.0</td>\n",
       "      <td>2.0</td>\n",
       "      <td>1.0</td>\n",
       "      <td>1.0</td>\n",
       "    </tr>\n",
       "  </tbody>\n",
       "</table>\n",
       "<p>5 rows × 35 columns</p>\n",
       "</div>"
      ],
      "text/plain": [
       "              ID     country  \\\n",
       "0  ID_0000005111     Croatia   \n",
       "1  ID_0000389416  Kazakhstan   \n",
       "2  ID_0000634789  Costa Rica   \n",
       "3  ID_0000778100       Japan   \n",
       "4  ID_0001123210     Morocco   \n",
       "\n",
       "                                               region   population   age  Q1  \\\n",
       "0       Europe & Central Asia (excluding high income)    3557444.5  62.0   2   \n",
       "1       Europe & Central Asia (excluding high income)   12920168.0  32.0   2   \n",
       "2   Latin America & Caribbean (excluding high income)    3791520.0  73.0   1   \n",
       "3                                   High income: OECD  110566824.0  67.0   1   \n",
       "4  Middle East & North Africa (excluding high income)   25550170.0  32.0   1   \n",
       "\n",
       "    Q2   Q3   Q4   Q5  ...  Q20  Q21  Q22  Q23  Q24  Q25  Q26  Q27  \\\n",
       "0  NaN  NaN  2.0  2.0  ...  2.0    2    1  1.0    2    2  2.0  NaN   \n",
       "1  NaN  NaN  NaN  NaN  ...  2.0    2    2  NaN    2    2  2.0  2.0   \n",
       "2  1.0  1.0  2.0  2.0  ...  2.0    2    2  NaN    2    1  2.0  1.0   \n",
       "3  1.0  1.0  1.0  2.0  ...  NaN    1    1  2.0    1    1  NaN  NaN   \n",
       "4  1.0  1.0  2.0  2.0  ...  1.0    2    2  NaN    2    2  2.0  2.0   \n",
       "\n",
       "   owns_mobile  Q28  \n",
       "0          1.0  1.0  \n",
       "1          1.0  2.0  \n",
       "2          1.0  1.0  \n",
       "3          1.0  NaN  \n",
       "4          1.0  1.0  \n",
       "\n",
       "[5 rows x 35 columns]"
      ]
     },
     "execution_count": 4,
     "metadata": {},
     "output_type": "execute_result"
    }
   ],
   "source": [
    "# Preview the first five rows of the test set\n",
    "test.head()"
   ]
  },
  {
   "cell_type": "code",
   "execution_count": 5,
   "metadata": {
    "colab": {
     "base_uri": "https://localhost:8080/",
     "height": 195
    },
    "id": "wU1bcDZSU0Nj",
    "outputId": "370f83aa-3fe6-475f-d2ed-d966a3431647"
   },
   "outputs": [
    {
     "data": {
      "text/html": [
       "<div>\n",
       "<style scoped>\n",
       "    .dataframe tbody tr th:only-of-type {\n",
       "        vertical-align: middle;\n",
       "    }\n",
       "\n",
       "    .dataframe tbody tr th {\n",
       "        vertical-align: top;\n",
       "    }\n",
       "\n",
       "    .dataframe thead th {\n",
       "        text-align: right;\n",
       "    }\n",
       "</style>\n",
       "<table border=\"1\" class=\"dataframe\">\n",
       "  <thead>\n",
       "    <tr style=\"text-align: right;\">\n",
       "      <th></th>\n",
       "      <th>ID</th>\n",
       "      <th>target</th>\n",
       "    </tr>\n",
       "  </thead>\n",
       "  <tbody>\n",
       "    <tr>\n",
       "      <th>0</th>\n",
       "      <td>ID_0000005111</td>\n",
       "      <td>NaN</td>\n",
       "    </tr>\n",
       "    <tr>\n",
       "      <th>1</th>\n",
       "      <td>ID_0000389416</td>\n",
       "      <td>NaN</td>\n",
       "    </tr>\n",
       "    <tr>\n",
       "      <th>2</th>\n",
       "      <td>ID_0000634789</td>\n",
       "      <td>NaN</td>\n",
       "    </tr>\n",
       "    <tr>\n",
       "      <th>3</th>\n",
       "      <td>ID_0000778100</td>\n",
       "      <td>NaN</td>\n",
       "    </tr>\n",
       "    <tr>\n",
       "      <th>4</th>\n",
       "      <td>ID_0001123210</td>\n",
       "      <td>NaN</td>\n",
       "    </tr>\n",
       "  </tbody>\n",
       "</table>\n",
       "</div>"
      ],
      "text/plain": [
       "              ID  target\n",
       "0  ID_0000005111     NaN\n",
       "1  ID_0000389416     NaN\n",
       "2  ID_0000634789     NaN\n",
       "3  ID_0000778100     NaN\n",
       "4  ID_0001123210     NaN"
      ]
     },
     "execution_count": 5,
     "metadata": {},
     "output_type": "execute_result"
    }
   ],
   "source": [
    "# Preview the first five rows of the sample submission file\n",
    "samplesubmission.head()"
   ]
  },
  {
   "cell_type": "code",
   "execution_count": 6,
   "metadata": {
    "colab": {
     "base_uri": "https://localhost:8080/",
     "height": 1000
    },
    "id": "UFh6oAKDFyws",
    "outputId": "b7801036-dfb5-4172-b045-b1155e723706"
   },
   "outputs": [
    {
     "data": {
      "text/html": [
       "<div>\n",
       "<style scoped>\n",
       "    .dataframe tbody tr th:only-of-type {\n",
       "        vertical-align: middle;\n",
       "    }\n",
       "\n",
       "    .dataframe tbody tr th {\n",
       "        vertical-align: top;\n",
       "    }\n",
       "\n",
       "    .dataframe thead th {\n",
       "        text-align: right;\n",
       "    }\n",
       "</style>\n",
       "<table border=\"1\" class=\"dataframe\">\n",
       "  <thead>\n",
       "    <tr style=\"text-align: right;\">\n",
       "      <th></th>\n",
       "      <th>ID</th>\n",
       "      <th>Person unique/random identification</th>\n",
       "      <th>For columns(Q1 - Q28), Value 1 - Yes, 2 - No, 3-Don’t Know 4 - refused to answer</th>\n",
       "    </tr>\n",
       "  </thead>\n",
       "  <tbody>\n",
       "    <tr>\n",
       "      <th>0</th>\n",
       "      <td>country</td>\n",
       "      <td>The country</td>\n",
       "      <td>NaN</td>\n",
       "    </tr>\n",
       "    <tr>\n",
       "      <th>1</th>\n",
       "      <td>region</td>\n",
       "      <td>Region of a given country,.i.e., South Asia, Europe, etc</td>\n",
       "      <td>NaN</td>\n",
       "    </tr>\n",
       "    <tr>\n",
       "      <th>2</th>\n",
       "      <td>population</td>\n",
       "      <td>The population of the given country</td>\n",
       "      <td>NaN</td>\n",
       "    </tr>\n",
       "    <tr>\n",
       "      <th>3</th>\n",
       "      <td>age</td>\n",
       "      <td>Individual age</td>\n",
       "      <td>NaN</td>\n",
       "    </tr>\n",
       "    <tr>\n",
       "      <th>4</th>\n",
       "      <td>Q1</td>\n",
       "      <td>Has ATM/debit card</td>\n",
       "      <td>NaN</td>\n",
       "    </tr>\n",
       "    <tr>\n",
       "      <th>5</th>\n",
       "      <td>Q2</td>\n",
       "      <td>Is the ATM connect to an account with your name?</td>\n",
       "      <td>NaN</td>\n",
       "    </tr>\n",
       "    <tr>\n",
       "      <th>6</th>\n",
       "      <td>Q3</td>\n",
       "      <td>Purchased with the ATM</td>\n",
       "      <td>NaN</td>\n",
       "    </tr>\n",
       "    <tr>\n",
       "      <th>7</th>\n",
       "      <td>Q4</td>\n",
       "      <td>Use of mobile or internet to make payments or send money</td>\n",
       "      <td>NaN</td>\n",
       "    </tr>\n",
       "    <tr>\n",
       "      <th>8</th>\n",
       "      <td>Q5</td>\n",
       "      <td>Mobile/internet to check account balance</td>\n",
       "      <td>NaN</td>\n",
       "    </tr>\n",
       "    <tr>\n",
       "      <th>9</th>\n",
       "      <td>Q6</td>\n",
       "      <td>Has a credit card</td>\n",
       "      <td>NaN</td>\n",
       "    </tr>\n",
       "    <tr>\n",
       "      <th>10</th>\n",
       "      <td>Q7</td>\n",
       "      <td>Used the credit card in 12 months</td>\n",
       "      <td>NaN</td>\n",
       "    </tr>\n",
       "    <tr>\n",
       "      <th>11</th>\n",
       "      <td>Q8</td>\n",
       "      <td>Money deposits to a bank account in the last 12 months</td>\n",
       "      <td>NaN</td>\n",
       "    </tr>\n",
       "    <tr>\n",
       "      <th>12</th>\n",
       "      <td>Q9</td>\n",
       "      <td>Money withdrawals from a bank account in the last 12 months</td>\n",
       "      <td>NaN</td>\n",
       "    </tr>\n",
       "    <tr>\n",
       "      <th>13</th>\n",
       "      <td>Q10a</td>\n",
       "      <td>Used the Internet in the last 12 months;- to make payments for the bills -</td>\n",
       "      <td>NaN</td>\n",
       "    </tr>\n",
       "    <tr>\n",
       "      <th>14</th>\n",
       "      <td>Q10b</td>\n",
       "      <td>Used the Internet in the last 12 months;- to buy something online</td>\n",
       "      <td>NaN</td>\n",
       "    </tr>\n",
       "    <tr>\n",
       "      <th>15</th>\n",
       "      <td>Q11</td>\n",
       "      <td>Savings in the last 12 months to start a business/farm</td>\n",
       "      <td>NaN</td>\n",
       "    </tr>\n",
       "    <tr>\n",
       "      <th>16</th>\n",
       "      <td>Q12</td>\n",
       "      <td>Savings in the last 12 months for old age</td>\n",
       "      <td>NaN</td>\n",
       "    </tr>\n",
       "    <tr>\n",
       "      <th>17</th>\n",
       "      <td>Q13a</td>\n",
       "      <td>Saved the money at a bank/financial institutions</td>\n",
       "      <td>NaN</td>\n",
       "    </tr>\n",
       "    <tr>\n",
       "      <th>18</th>\n",
       "      <td>Q13b</td>\n",
       "      <td>Save the money at groups/clubs of any informal type</td>\n",
       "      <td>NaN</td>\n",
       "    </tr>\n",
       "    <tr>\n",
       "      <th>19</th>\n",
       "      <td>Q14</td>\n",
       "      <td>Has a loan from formal financial institutions to purchase land, home, or apartment</td>\n",
       "      <td>NaN</td>\n",
       "    </tr>\n",
       "    <tr>\n",
       "      <th>20</th>\n",
       "      <td>Q15</td>\n",
       "      <td>Borrowed money for health/medical purposes in the last 12 months</td>\n",
       "      <td>NaN</td>\n",
       "    </tr>\n",
       "    <tr>\n",
       "      <th>21</th>\n",
       "      <td>Q16</td>\n",
       "      <td>Borrowed money to start/grow business or farm</td>\n",
       "      <td>NaN</td>\n",
       "    </tr>\n",
       "    <tr>\n",
       "      <th>22</th>\n",
       "      <td>Q17a</td>\n",
       "      <td>Borrowed money from formal financial institutions - 12 months</td>\n",
       "      <td>NaN</td>\n",
       "    </tr>\n",
       "    <tr>\n",
       "      <th>23</th>\n",
       "      <td>Q17b</td>\n",
       "      <td>Borrowed money from friends, relatives, or family - 12 months</td>\n",
       "      <td>NaN</td>\n",
       "    </tr>\n",
       "    <tr>\n",
       "      <th>24</th>\n",
       "      <td>Q19</td>\n",
       "      <td>Sent/given money to friend/relative</td>\n",
       "      <td>NaN</td>\n",
       "    </tr>\n",
       "    <tr>\n",
       "      <th>25</th>\n",
       "      <td>Q20</td>\n",
       "      <td>Received money from friend or relative</td>\n",
       "      <td>NaN</td>\n",
       "    </tr>\n",
       "    <tr>\n",
       "      <th>26</th>\n",
       "      <td>Q21</td>\n",
       "      <td>Payments for electricity, water, or trash in the last 12 months</td>\n",
       "      <td>NaN</td>\n",
       "    </tr>\n",
       "    <tr>\n",
       "      <th>27</th>\n",
       "      <td>Q22</td>\n",
       "      <td>salary/wages in the last 12 months</td>\n",
       "      <td>NaN</td>\n",
       "    </tr>\n",
       "    <tr>\n",
       "      <th>28</th>\n",
       "      <td>Q23</td>\n",
       "      <td>Employed by government or public sector -12 months</td>\n",
       "      <td>NaN</td>\n",
       "    </tr>\n",
       "    <tr>\n",
       "      <th>29</th>\n",
       "      <td>Q24</td>\n",
       "      <td>Received any form of financial support from the government</td>\n",
       "      <td>NaN</td>\n",
       "    </tr>\n",
       "    <tr>\n",
       "      <th>30</th>\n",
       "      <td>Q25</td>\n",
       "      <td>Pension in the last 12 months</td>\n",
       "      <td>NaN</td>\n",
       "    </tr>\n",
       "    <tr>\n",
       "      <th>31</th>\n",
       "      <td>Q26</td>\n",
       "      <td>Received money for the sale of livestock, agricultural products, crops, produce? (12 months)</td>\n",
       "      <td>NaN</td>\n",
       "    </tr>\n",
       "    <tr>\n",
       "      <th>32</th>\n",
       "      <td>Q27</td>\n",
       "      <td>Received money from your business in last 12 months</td>\n",
       "      <td>NaN</td>\n",
       "    </tr>\n",
       "    <tr>\n",
       "      <th>33</th>\n",
       "      <td>owns_mobile</td>\n",
       "      <td>Owns a mobile phone</td>\n",
       "      <td>NaN</td>\n",
       "    </tr>\n",
       "    <tr>\n",
       "      <th>34</th>\n",
       "      <td>Q28</td>\n",
       "      <td>Has national ID card</td>\n",
       "      <td>NaN</td>\n",
       "    </tr>\n",
       "    <tr>\n",
       "      <th>35</th>\n",
       "      <td>target</td>\n",
       "      <td>target class</td>\n",
       "      <td>NaN</td>\n",
       "    </tr>\n",
       "  </tbody>\n",
       "</table>\n",
       "</div>"
      ],
      "text/plain": [
       "             ID  \\\n",
       "0       country   \n",
       "1        region   \n",
       "2    population   \n",
       "3           age   \n",
       "4            Q1   \n",
       "5            Q2   \n",
       "6            Q3   \n",
       "7            Q4   \n",
       "8            Q5   \n",
       "9            Q6   \n",
       "10           Q7   \n",
       "11           Q8   \n",
       "12           Q9   \n",
       "13         Q10a   \n",
       "14         Q10b   \n",
       "15          Q11   \n",
       "16          Q12   \n",
       "17         Q13a   \n",
       "18         Q13b   \n",
       "19          Q14   \n",
       "20          Q15   \n",
       "21          Q16   \n",
       "22         Q17a   \n",
       "23         Q17b   \n",
       "24          Q19   \n",
       "25          Q20   \n",
       "26          Q21   \n",
       "27          Q22   \n",
       "28          Q23   \n",
       "29          Q24   \n",
       "30          Q25   \n",
       "31          Q26   \n",
       "32          Q27   \n",
       "33  owns_mobile   \n",
       "34          Q28   \n",
       "35       target   \n",
       "\n",
       "                                                             Person unique/random identification  \\\n",
       "0                                                                                    The country   \n",
       "1                                       Region of a given country,.i.e., South Asia, Europe, etc   \n",
       "2                                                            The population of the given country   \n",
       "3                                                                                 Individual age   \n",
       "4                                                                             Has ATM/debit card   \n",
       "5                                               Is the ATM connect to an account with your name?   \n",
       "6                                                                         Purchased with the ATM   \n",
       "7                                       Use of mobile or internet to make payments or send money   \n",
       "8                                                       Mobile/internet to check account balance   \n",
       "9                                                                              Has a credit card   \n",
       "10                                                             Used the credit card in 12 months   \n",
       "11                                        Money deposits to a bank account in the last 12 months   \n",
       "12                                   Money withdrawals from a bank account in the last 12 months   \n",
       "13                    Used the Internet in the last 12 months;- to make payments for the bills -   \n",
       "14                             Used the Internet in the last 12 months;- to buy something online   \n",
       "15                                        Savings in the last 12 months to start a business/farm   \n",
       "16                                                     Savings in the last 12 months for old age   \n",
       "17                                              Saved the money at a bank/financial institutions   \n",
       "18                                           Save the money at groups/clubs of any informal type   \n",
       "19            Has a loan from formal financial institutions to purchase land, home, or apartment   \n",
       "20                              Borrowed money for health/medical purposes in the last 12 months   \n",
       "21                                                 Borrowed money to start/grow business or farm   \n",
       "22                                 Borrowed money from formal financial institutions - 12 months   \n",
       "23                                 Borrowed money from friends, relatives, or family - 12 months   \n",
       "24                                                           Sent/given money to friend/relative   \n",
       "25                                                        Received money from friend or relative   \n",
       "26                               Payments for electricity, water, or trash in the last 12 months   \n",
       "27                                                            salary/wages in the last 12 months   \n",
       "28                                            Employed by government or public sector -12 months   \n",
       "29                                    Received any form of financial support from the government   \n",
       "30                                                                 Pension in the last 12 months   \n",
       "31  Received money for the sale of livestock, agricultural products, crops, produce? (12 months)   \n",
       "32                                           Received money from your business in last 12 months   \n",
       "33                                                                           Owns a mobile phone   \n",
       "34                                                                          Has national ID card   \n",
       "35                                                                                  target class   \n",
       "\n",
       "    For columns(Q1 - Q28), Value 1 - Yes, 2 - No, 3-Don’t Know 4 - refused to answer  \n",
       "0                                                                                NaN  \n",
       "1                                                                                NaN  \n",
       "2                                                                                NaN  \n",
       "3                                                                                NaN  \n",
       "4                                                                                NaN  \n",
       "5                                                                                NaN  \n",
       "6                                                                                NaN  \n",
       "7                                                                                NaN  \n",
       "8                                                                                NaN  \n",
       "9                                                                                NaN  \n",
       "10                                                                               NaN  \n",
       "11                                                                               NaN  \n",
       "12                                                                               NaN  \n",
       "13                                                                               NaN  \n",
       "14                                                                               NaN  \n",
       "15                                                                               NaN  \n",
       "16                                                                               NaN  \n",
       "17                                                                               NaN  \n",
       "18                                                                               NaN  \n",
       "19                                                                               NaN  \n",
       "20                                                                               NaN  \n",
       "21                                                                               NaN  \n",
       "22                                                                               NaN  \n",
       "23                                                                               NaN  \n",
       "24                                                                               NaN  \n",
       "25                                                                               NaN  \n",
       "26                                                                               NaN  \n",
       "27                                                                               NaN  \n",
       "28                                                                               NaN  \n",
       "29                                                                               NaN  \n",
       "30                                                                               NaN  \n",
       "31                                                                               NaN  \n",
       "32                                                                               NaN  \n",
       "33                                                                               NaN  \n",
       "34                                                                               NaN  \n",
       "35                                                                               NaN  "
      ]
     },
     "execution_count": 6,
     "metadata": {},
     "output_type": "execute_result"
    }
   ],
   "source": [
    "# Preview variable definations\n",
    "variable_definations"
   ]
  },
  {
   "cell_type": "code",
   "execution_count": 7,
   "metadata": {
    "colab": {
     "base_uri": "https://localhost:8080/"
    },
    "id": "PdVvmpG_GRxA",
    "outputId": "2efee873-8ff7-44de-8570-a7575c8cf0f4"
   },
   "outputs": [
    {
     "name": "stdout",
     "output_type": "stream",
     "text": [
      "The shape of the train set is: (104867, 36)\n",
      "The shape of the test set is: (44943, 35)\n"
     ]
    }
   ],
   "source": [
    "# Check the shape of the train and test sets\n",
    "print(f'The shape of the train set is: {train.shape}\\nThe shape of the test set is: {test.shape}')"
   ]
  },
  {
   "cell_type": "markdown",
   "metadata": {
    "id": "9CO1R3hi8FJQ"
   },
   "source": [
    "### Check for missing values"
   ]
  },
  {
   "cell_type": "code",
   "execution_count": 8,
   "metadata": {
    "colab": {
     "base_uri": "https://localhost:8080/",
     "height": 609
    },
    "id": "iWgHvxqYGRux",
    "outputId": "979fb804-723c-466c-81ff-7216d3e760cd"
   },
   "outputs": [
    {
     "data": {
      "image/png": "[encoded data removed]",
      "text/plain": [
       "<matplotlib.figure.Figure at 0x7f64100babe0>"
      ]
     },
     "metadata": {
      "needs_background": "light"
     },
     "output_type": "display_data"
    }
   ],
   "source": [
    "# Check if there any missing values in train set\n",
    "ax = train.isna().sum().sort_values().plot(kind = 'barh', figsize = (9, 10))\n",
    "plt.title('Percentage of Missing Values Per Column in Train Set', fontdict={'size':15})\n",
    "for p in ax.patches:\n",
    "    percentage ='{:,.0f}%'.format((p.get_width()/train.shape[0])*100)\n",
    "    width, height =p.get_width(),p.get_height()\n",
    "    x=p.get_x()+width+0.02\n",
    "    y=p.get_y()+height/2\n",
    "    ax.annotate(percentage,(x,y))"
   ]
  },
  {
   "cell_type": "code",
   "execution_count": 9,
   "metadata": {
    "colab": {
     "base_uri": "https://localhost:8080/",
     "height": 609
    },
    "id": "6A9jdEtoGRsi",
    "outputId": "ca04afd2-6372-4b8a-b8af-8ff177185145"
   },
   "outputs": [
    {
     "data": {
      "image/png": "[encoded data removed]",
      "text/plain": [
       "<matplotlib.figure.Figure at 0x7f6410005f28>"
      ]
     },
     "metadata": {
      "needs_background": "light"
     },
     "output_type": "display_data"
    }
   ],
   "source": [
    "# Check if there missing values in test set\n",
    "ax = test.isna().sum().sort_values().plot(kind = 'barh', figsize = (9, 10))\n",
    "plt.title('Percentage of Missing Values Per Column in Test Set', fontdict={'size':15})\n",
    "\n",
    "for p in ax.patches:\n",
    "    percentage ='{:,.1f}%'.format((p.get_width()/test.shape[0])*100)\n",
    "    width, height =p.get_width(),p.get_height()\n",
    "    x=p.get_x()+width+0.02\n",
    "    y=p.get_y()+height/2\n",
    "    ax.annotate(percentage,(x,y))"
   ]
  },
  {
   "cell_type": "code",
   "execution_count": 10,
   "metadata": {
    "colab": {
     "base_uri": "https://localhost:8080/"
    },
    "id": "PnGVLoE2GRqL",
    "outputId": "6f96e2e1-54f7-4d22-ee10-8ad69ec8bb8f"
   },
   "outputs": [
    {
     "data": {
      "text/plain": [
       "(False, False)"
      ]
     },
     "execution_count": 10,
     "metadata": {},
     "output_type": "execute_result"
    }
   ],
   "source": [
    "# Check for duplicates\n",
    "train.duplicated().any(), test.duplicated().any()"
   ]
  },
  {
   "cell_type": "markdown",
   "metadata": {
    "id": "SiZR9Zu6I5xo"
   },
   "source": [
    "## Distribution of the target variable"
   ]
  },
  {
   "cell_type": "code",
   "execution_count": 11,
   "metadata": {
    "colab": {
     "base_uri": "https://localhost:8080/",
     "height": 404
    },
    "id": "J5xyqTXqHCYo",
    "outputId": "a5e94eb4-1475-4144-c4ea-0281f8784acd"
   },
   "outputs": [
    {
     "data": {
      "image/png": "[encoded data removed]",
      "text/plain": [
       "<matplotlib.figure.Figure at 0x7f641001f7b8>"
      ]
     },
     "metadata": {
      "needs_background": "light"
     },
     "output_type": "display_data"
    }
   ],
   "source": [
    "plt.figure(figsize=(7, 6))\n",
    "sns.countplot(train.target)\n",
    "plt.title('Target Variable Distribution');"
   ]
  },
  {
   "cell_type": "markdown",
   "metadata": {
    "id": "2r3BS3IcKP7f"
   },
   "source": [
    "This shows us that the target (Can you make a payment if you were in an emergency) is fairly balanced. The majority class in this dataset are people who can make a payment incase of an emergency"
   ]
  },
  {
   "cell_type": "code",
   "execution_count": 12,
   "metadata": {
    "colab": {
     "base_uri": "https://localhost:8080/",
     "height": 523
    },
    "id": "izjup23WHCVr",
    "outputId": "d4fc229a-9618-40f2-99c0-7aed0dbfe7fb"
   },
   "outputs": [
    {
     "data": {
      "image/png": "[encoded data removed]",
      "text/plain": [
       "<matplotlib.figure.Figure at 0x7f640ff914a8>"
      ]
     },
     "metadata": {
      "needs_background": "light"
     },
     "output_type": "display_data"
    }
   ],
   "source": [
    "# Q1 - Has ATM/debit card\n",
    "plt.figure(figsize=(8, 7))\n",
    "ax =sns.countplot(train.Q1)\n",
    "ax.set_xticklabels(['Yes', 'No', 'Don\"t Know', 'Refused to answer'], rotation=45 )\n",
    "plt.title('Distribution of Q1 - Has ATM/debit card', fontdict = {'size': 15});"
   ]
  },
  {
   "cell_type": "markdown",
   "metadata": {
    "id": "4WpL_l95Nlxq"
   },
   "source": [
    "This shows that most people do not own a debit or ATM card"
   ]
  },
  {
   "cell_type": "markdown",
   "metadata": {
    "id": "g9oZ14qYN1FY"
   },
   "source": [
    "## Combine train and test set for easy preprocessing "
   ]
  },
  {
   "cell_type": "code",
   "execution_count": 13,
   "metadata": {
    "colab": {
     "base_uri": "https://localhost:8080/"
    },
    "id": "8PH2LhntHCTj",
    "outputId": "b0c166b3-28bf-4dc4-f072-4219e99d4c0c"
   },
   "outputs": [
    {
     "name": "stdout",
     "output_type": "stream",
     "text": [
      "The shape of the combined dataframe is: (149810, 36)\n"
     ]
    }
   ],
   "source": [
    "# Combine train and test set\n",
    "ntrain = train.shape[0] # to be used to split train and test set from the combined dataframe\n",
    "\n",
    "all_data = pd.concat((train, test)).reset_index(drop=True)\n",
    "print(f'The shape of the combined dataframe is: {all_data.shape}')"
   ]
  },
  {
   "cell_type": "code",
   "execution_count": 14,
   "metadata": {
    "colab": {
     "base_uri": "https://localhost:8080/"
    },
    "id": "4chstsvnHCRS",
    "outputId": "528302e0-53f9-4f9c-9289-9952fd05bb3a"
   },
   "outputs": [
    {
     "name": "stdout",
     "output_type": "stream",
     "text": [
      "<class 'pandas.core.frame.DataFrame'>\n",
      "RangeIndex: 149810 entries, 0 to 149809\n",
      "Data columns (total 36 columns):\n",
      "ID             149810 non-null object\n",
      "Q1             149810 non-null int64\n",
      "Q10a           149810 non-null int64\n",
      "Q10b           149810 non-null int64\n",
      "Q11            149810 non-null int64\n",
      "Q12            149810 non-null int64\n",
      "Q13a           149810 non-null int64\n",
      "Q14            149810 non-null int64\n",
      "Q15            149810 non-null int64\n",
      "Q16            149810 non-null int64\n",
      "Q17a           149810 non-null int64\n",
      "Q17b           149810 non-null int64\n",
      "Q19            115206 non-null float64\n",
      "Q2             68137 non-null float64\n",
      "Q20            115206 non-null float64\n",
      "Q21            149810 non-null int64\n",
      "Q22            149810 non-null int64\n",
      "Q23            53580 non-null float64\n",
      "Q24            149810 non-null int64\n",
      "Q25            149810 non-null int64\n",
      "Q26            115206 non-null float64\n",
      "Q27            83535 non-null float64\n",
      "Q28            105372 non-null float64\n",
      "Q3             64562 non-null float64\n",
      "Q4             82004 non-null float64\n",
      "Q5             82004 non-null float64\n",
      "Q6             149810 non-null int64\n",
      "Q7             29515 non-null float64\n",
      "Q8             84272 non-null float64\n",
      "Q9             84272 non-null float64\n",
      "age            149399 non-null float64\n",
      "country        149810 non-null object\n",
      "owns_mobile    149808 non-null float64\n",
      "population     149810 non-null float64\n",
      "region         148830 non-null object\n",
      "target         104867 non-null float64\n",
      "dtypes: float64(17), int64(16), object(3)\n",
      "memory usage: 41.1+ MB\n"
     ]
    }
   ],
   "source": [
    "# Check the column names and datatypes\n",
    "all_data.info()"
   ]
  },
  {
   "cell_type": "code",
   "execution_count": 15,
   "metadata": {
    "colab": {
     "base_uri": "https://localhost:8080/"
    },
    "id": "3AADdmJ6HCOr",
    "outputId": "c4b4a051-37e9-403d-f042-567cb49351e4"
   },
   "outputs": [
    {
     "name": "stdout",
     "output_type": "stream",
     "text": [
      "<class 'pandas.core.frame.DataFrame'>\n",
      "RangeIndex: 149810 entries, 0 to 149809\n",
      "Data columns (total 36 columns):\n",
      "ID             149810 non-null object\n",
      "Q1             149810 non-null category\n",
      "Q10a           149810 non-null category\n",
      "Q10b           149810 non-null category\n",
      "Q11            149810 non-null category\n",
      "Q12            149810 non-null category\n",
      "Q13a           149810 non-null category\n",
      "Q14            149810 non-null category\n",
      "Q15            149810 non-null category\n",
      "Q16            149810 non-null category\n",
      "Q17a           149810 non-null category\n",
      "Q17b           149810 non-null category\n",
      "Q19            115206 non-null category\n",
      "Q2             68137 non-null category\n",
      "Q20            115206 non-null category\n",
      "Q21            149810 non-null category\n",
      "Q22            149810 non-null category\n",
      "Q23            53580 non-null category\n",
      "Q24            149810 non-null category\n",
      "Q25            149810 non-null category\n",
      "Q26            115206 non-null category\n",
      "Q27            83535 non-null category\n",
      "Q28            105372 non-null category\n",
      "Q3             64562 non-null category\n",
      "Q4             82004 non-null category\n",
      "Q5             82004 non-null category\n",
      "Q6             149810 non-null category\n",
      "Q7             29515 non-null category\n",
      "Q8             84272 non-null category\n",
      "Q9             84272 non-null category\n",
      "age            149399 non-null float64\n",
      "country        149810 non-null category\n",
      "owns_mobile    149808 non-null category\n",
      "population     149810 non-null float64\n",
      "region         148830 non-null category\n",
      "target         104867 non-null float64\n",
      "dtypes: category(32), float64(3), object(1)\n",
      "memory usage: 9.3+ MB\n"
     ]
    }
   ],
   "source": [
    "# Category columns\n",
    "cat_cols = ['country',\t'region', 'owns_mobile'] + [x for x in all_data.columns if x.startswith('Q')]\n",
    "num_cols = ['age', 'population']\n",
    "\n",
    "# Change columns to their respective datatypes\n",
    "all_data[cat_cols] = all_data[cat_cols].astype('category')\n",
    "\n",
    "# Confirm whether the changes have been successful\n",
    "all_data.info()"
   ]
  },
  {
   "cell_type": "markdown",
   "metadata": {
    "id": "_QFo9TxSkY6w"
   },
   "source": [
    "### Number of unique values per categorical column"
   ]
  },
  {
   "cell_type": "code",
   "execution_count": 16,
   "metadata": {
    "colab": {
     "base_uri": "https://localhost:8080/"
    },
    "id": "2gc8aFu_kcU6",
    "outputId": "8eff12c2-e4c7-4ff8-cbd6-a31b66d5f592"
   },
   "outputs": [
    {
     "name": "stdout",
     "output_type": "stream",
     "text": [
      "country 144\n",
      "region 8\n",
      "owns_mobile 4\n",
      "Q1 4\n",
      "Q10a 4\n",
      "Q10b 4\n",
      "Q11 4\n",
      "Q12 4\n",
      "Q13a 4\n",
      "Q14 4\n",
      "Q15 4\n",
      "Q16 4\n",
      "Q17a 4\n",
      "Q17b 4\n",
      "Q19 4\n",
      "Q2 4\n",
      "Q20 4\n",
      "Q21 4\n",
      "Q22 4\n",
      "Q23 4\n",
      "Q24 4\n",
      "Q25 4\n",
      "Q26 4\n",
      "Q27 4\n",
      "Q28 4\n",
      "Q3 4\n",
      "Q4 4\n",
      "Q5 4\n",
      "Q6 4\n",
      "Q7 4\n",
      "Q8 4\n",
      "Q9 4\n"
     ]
    }
   ],
   "source": [
    "# Check unique values for each categorical column\n",
    "for col in cat_cols:\n",
    "  print(col, all_data[col].nunique())"
   ]
  },
  {
   "cell_type": "markdown",
   "metadata": {
    "id": "wUA3IqW42Oeq"
   },
   "source": [
    "## Fill in missing values\n",
    "Missing values can be filled using different strategies\n",
    " - Mean\n",
    " - Max\n",
    " - Min\n",
    " - for categorical variables - mode\n",
    " - [sklearn SimpleImputer](https://scikit-learn.org/stable/modules/generated/sklearn.impute.SimpleImputer.html)\n",
    " - Others... do more reasearch"
   ]
  },
  {
   "cell_type": "code",
   "execution_count": 17,
   "metadata": {
    "colab": {
     "base_uri": "https://localhost:8080/"
    },
    "id": "VQ4t3UbC2Nsy",
    "outputId": "176e804c-12a8-4f76-8a12-af4de9a2665f"
   },
   "outputs": [
    {
     "data": {
      "text/plain": [
       "False"
      ]
     },
     "execution_count": 17,
     "metadata": {},
     "output_type": "execute_result"
    }
   ],
   "source": [
    "# Fill in missing values\n",
    "# For cat cols and date cols fill in with mode and for num cols fill in with 9999\n",
    "for col in all_data.columns:\n",
    "  if col in cat_cols:\n",
    "    all_data[col] = all_data[col].fillna(all_data[col].mode()[0])\n",
    "  elif col in num_cols:\n",
    "    all_data[col] = all_data[col].fillna(all_data[col].fillna(9999))\n",
    "\n",
    "# Confirm that there aren't any missing values\n",
    "all_data[all_data.columns.difference(['target'])].isna().sum().any()"
   ]
  },
  {
   "cell_type": "markdown",
   "metadata": {
    "id": "3Hd9viOb2_c3"
   },
   "source": [
    "### Feature Engineering\n",
    "#### Try different strategies of dealing with categorical variables\n",
    " - One hot encoding\n",
    " - Label encoding\n",
    " - Target encoding\n",
    " - Reduce the number of unique values..."
   ]
  },
  {
   "cell_type": "code",
   "execution_count": 18,
   "metadata": {
    "colab": {
     "base_uri": "https://localhost:8080/"
    },
    "id": "X2DUKqTb3UY-",
    "outputId": "428bb9c0-2d5c-4d68-b206-4ac1069a613d"
   },
   "outputs": [
    {
     "data": {
      "text/plain": [
       "(149810, 36)"
      ]
     },
     "execution_count": 18,
     "metadata": {},
     "output_type": "execute_result"
    }
   ],
   "source": [
    "# Shape of data before encoding\n",
    "all_data.shape"
   ]
  },
  {
   "cell_type": "code",
   "execution_count": 19,
   "metadata": {
    "colab": {
     "base_uri": "https://localhost:8080/",
     "height": 278
    },
    "id": "vQtjAQw92Np4",
    "outputId": "782fe9cb-276c-45f1-de3a-861f918fac54"
   },
   "outputs": [
    {
     "data": {
      "text/html": [
       "<div>\n",
       "<style scoped>\n",
       "    .dataframe tbody tr th:only-of-type {\n",
       "        vertical-align: middle;\n",
       "    }\n",
       "\n",
       "    .dataframe tbody tr th {\n",
       "        vertical-align: top;\n",
       "    }\n",
       "\n",
       "    .dataframe thead th {\n",
       "        text-align: right;\n",
       "    }\n",
       "</style>\n",
       "<table border=\"1\" class=\"dataframe\">\n",
       "  <thead>\n",
       "    <tr style=\"text-align: right;\">\n",
       "      <th></th>\n",
       "      <th>ID</th>\n",
       "      <th>age</th>\n",
       "      <th>population</th>\n",
       "      <th>target</th>\n",
       "      <th>country_Afghanistan</th>\n",
       "      <th>country_Albania</th>\n",
       "      <th>country_Algeria</th>\n",
       "      <th>country_Argentina</th>\n",
       "      <th>country_Armenia</th>\n",
       "      <th>country_Australia</th>\n",
       "      <th>...</th>\n",
       "      <th>Q7_3.0</th>\n",
       "      <th>Q7_4.0</th>\n",
       "      <th>Q8_1.0</th>\n",
       "      <th>Q8_2.0</th>\n",
       "      <th>Q8_3.0</th>\n",
       "      <th>Q8_4.0</th>\n",
       "      <th>Q9_1.0</th>\n",
       "      <th>Q9_2.0</th>\n",
       "      <th>Q9_3.0</th>\n",
       "      <th>Q9_4.0</th>\n",
       "    </tr>\n",
       "  </thead>\n",
       "  <tbody>\n",
       "    <tr>\n",
       "      <th>0</th>\n",
       "      <td>ID_0000020532</td>\n",
       "      <td>66.0</td>\n",
       "      <td>25550170.0</td>\n",
       "      <td>0.0</td>\n",
       "      <td>0</td>\n",
       "      <td>0</td>\n",
       "      <td>0</td>\n",
       "      <td>0</td>\n",
       "      <td>0</td>\n",
       "      <td>0</td>\n",
       "      <td>...</td>\n",
       "      <td>0</td>\n",
       "      <td>0</td>\n",
       "      <td>1</td>\n",
       "      <td>0</td>\n",
       "      <td>0</td>\n",
       "      <td>0</td>\n",
       "      <td>1</td>\n",
       "      <td>0</td>\n",
       "      <td>0</td>\n",
       "      <td>0</td>\n",
       "    </tr>\n",
       "    <tr>\n",
       "      <th>1</th>\n",
       "      <td>ID_0000075765</td>\n",
       "      <td>44.0</td>\n",
       "      <td>4591023.0</td>\n",
       "      <td>1.0</td>\n",
       "      <td>0</td>\n",
       "      <td>0</td>\n",
       "      <td>0</td>\n",
       "      <td>0</td>\n",
       "      <td>0</td>\n",
       "      <td>0</td>\n",
       "      <td>...</td>\n",
       "      <td>0</td>\n",
       "      <td>0</td>\n",
       "      <td>1</td>\n",
       "      <td>0</td>\n",
       "      <td>0</td>\n",
       "      <td>0</td>\n",
       "      <td>1</td>\n",
       "      <td>0</td>\n",
       "      <td>0</td>\n",
       "      <td>0</td>\n",
       "    </tr>\n",
       "    <tr>\n",
       "      <th>2</th>\n",
       "      <td>ID_0000085491</td>\n",
       "      <td>29.0</td>\n",
       "      <td>25550170.0</td>\n",
       "      <td>0.0</td>\n",
       "      <td>0</td>\n",
       "      <td>0</td>\n",
       "      <td>0</td>\n",
       "      <td>0</td>\n",
       "      <td>0</td>\n",
       "      <td>0</td>\n",
       "      <td>...</td>\n",
       "      <td>0</td>\n",
       "      <td>0</td>\n",
       "      <td>1</td>\n",
       "      <td>0</td>\n",
       "      <td>0</td>\n",
       "      <td>0</td>\n",
       "      <td>1</td>\n",
       "      <td>0</td>\n",
       "      <td>0</td>\n",
       "      <td>0</td>\n",
       "    </tr>\n",
       "    <tr>\n",
       "      <th>3</th>\n",
       "      <td>ID_0000144505</td>\n",
       "      <td>44.0</td>\n",
       "      <td>30491168.0</td>\n",
       "      <td>1.0</td>\n",
       "      <td>0</td>\n",
       "      <td>0</td>\n",
       "      <td>0</td>\n",
       "      <td>0</td>\n",
       "      <td>0</td>\n",
       "      <td>0</td>\n",
       "      <td>...</td>\n",
       "      <td>0</td>\n",
       "      <td>0</td>\n",
       "      <td>1</td>\n",
       "      <td>0</td>\n",
       "      <td>0</td>\n",
       "      <td>0</td>\n",
       "      <td>1</td>\n",
       "      <td>0</td>\n",
       "      <td>0</td>\n",
       "      <td>0</td>\n",
       "    </tr>\n",
       "    <tr>\n",
       "      <th>4</th>\n",
       "      <td>ID_0000214184</td>\n",
       "      <td>36.0</td>\n",
       "      <td>93002320.0</td>\n",
       "      <td>1.0</td>\n",
       "      <td>0</td>\n",
       "      <td>0</td>\n",
       "      <td>0</td>\n",
       "      <td>0</td>\n",
       "      <td>0</td>\n",
       "      <td>0</td>\n",
       "      <td>...</td>\n",
       "      <td>0</td>\n",
       "      <td>0</td>\n",
       "      <td>1</td>\n",
       "      <td>0</td>\n",
       "      <td>0</td>\n",
       "      <td>0</td>\n",
       "      <td>1</td>\n",
       "      <td>0</td>\n",
       "      <td>0</td>\n",
       "      <td>0</td>\n",
       "    </tr>\n",
       "  </tbody>\n",
       "</table>\n",
       "<p>5 rows × 276 columns</p>\n",
       "</div>"
      ],
      "text/plain": [
       "              ID   age  population  target  country_Afghanistan  \\\n",
       "0  ID_0000020532  66.0  25550170.0     0.0                    0   \n",
       "1  ID_0000075765  44.0   4591023.0     1.0                    0   \n",
       "2  ID_0000085491  29.0  25550170.0     0.0                    0   \n",
       "3  ID_0000144505  44.0  30491168.0     1.0                    0   \n",
       "4  ID_0000214184  36.0  93002320.0     1.0                    0   \n",
       "\n",
       "   country_Albania  country_Algeria  country_Argentina  country_Armenia  \\\n",
       "0                0                0                  0                0   \n",
       "1                0                0                  0                0   \n",
       "2                0                0                  0                0   \n",
       "3                0                0                  0                0   \n",
       "4                0                0                  0                0   \n",
       "\n",
       "   country_Australia  ...  Q7_3.0  Q7_4.0  Q8_1.0  Q8_2.0  Q8_3.0  Q8_4.0  \\\n",
       "0                  0  ...       0       0       1       0       0       0   \n",
       "1                  0  ...       0       0       1       0       0       0   \n",
       "2                  0  ...       0       0       1       0       0       0   \n",
       "3                  0  ...       0       0       1       0       0       0   \n",
       "4                  0  ...       0       0       1       0       0       0   \n",
       "\n",
       "   Q9_1.0  Q9_2.0  Q9_3.0  Q9_4.0  \n",
       "0       1       0       0       0  \n",
       "1       1       0       0       0  \n",
       "2       1       0       0       0  \n",
       "3       1       0       0       0  \n",
       "4       1       0       0       0  \n",
       "\n",
       "[5 rows x 276 columns]"
      ]
     },
     "execution_count": 19,
     "metadata": {},
     "output_type": "execute_result"
    }
   ],
   "source": [
    "# Use one hot encoding to turn categorical features to numerical features\n",
    "# Encode categorical features\n",
    "all_data = pd.get_dummies(data = all_data, columns = cat_cols)\n",
    "all_data.head()"
   ]
  },
  {
   "cell_type": "code",
   "execution_count": 20,
   "metadata": {
    "colab": {
     "base_uri": "https://localhost:8080/"
    },
    "id": "xijxGVyB3Z3K",
    "outputId": "aaeda529-cd48-4d0d-e3d3-941e7e518c26"
   },
   "outputs": [
    {
     "data": {
      "text/plain": [
       "(149810, 276)"
      ]
     },
     "execution_count": 20,
     "metadata": {},
     "output_type": "execute_result"
    }
   ],
   "source": [
    "# Shape of data after encoding\n",
    "all_data.shape"
   ]
  },
  {
   "cell_type": "code",
   "execution_count": 21,
   "metadata": {
    "colab": {
     "base_uri": "https://localhost:8080/"
    },
    "id": "xXRt7bHS3fhH",
    "outputId": "c21bc672-e690-4c0e-a106-304978846a4f"
   },
   "outputs": [
    {
     "data": {
      "text/plain": [
       "((104867, 276), (44943, 276))"
      ]
     },
     "execution_count": 21,
     "metadata": {},
     "output_type": "execute_result"
    }
   ],
   "source": [
    "# Separate train and test data from the combined dataframe\n",
    "train_df = all_data[:ntrain]\n",
    "test_df = all_data[ntrain:]\n",
    "\n",
    "# Check the shapes of the split dataset\n",
    "train_df.shape, test_df.shape"
   ]
  },
  {
   "cell_type": "markdown",
   "metadata": {
    "id": "eDBSVM-S4E-h"
   },
   "source": [
    "### Training and making predictions\n",
    "\n",
    "- Is lgbm the best model for this challenge?\n",
    "- Parameter tuning\n",
    "  - Grid search, random search, perhaps bayesian search works better..."
   ]
  },
  {
   "cell_type": "code",
   "execution_count": 25,
   "metadata": {
    "colab": {
     "base_uri": "https://localhost:8080/"
    },
    "id": "MzMVccR34ARy",
    "outputId": "b74bc80f-ec2a-41cb-de11-7e1793bb92c3"
   },
   "outputs": [
    {
     "name": "stdout",
     "output_type": "stream",
     "text": [
      "RandomForest AUC score on the X_test is: 0.737059026764097\n",
      "\n",
      "              precision    recall  f1-score   support\n",
      "\n",
      "           0       0.65      0.53      0.58     12994\n",
      "           1       0.71      0.80      0.75     18467\n",
      "\n",
      "    accuracy                           0.69     31461\n",
      "   macro avg       0.68      0.66      0.67     31461\n",
      "weighted avg       0.68      0.69      0.68     31461\n",
      "\n"
     ]
    }
   ],
   "source": [
    "# Select main columns to be used in training\n",
    "main_cols = all_data.columns.difference(['ID', 'target'])\n",
    "X = train_df[main_cols]\n",
    "y = train_df.target.astype(int)\n",
    "\n",
    "# Split data into train and test sets\n",
    "X_train, X_test, y_train, y_test = train_test_split(X,y,test_size=0.3, random_state=42)\n",
    "\n",
    "# Train model\n",
    "model = RandomForestClassifier()\n",
    "model.fit(X_train, y_train)\n",
    "\n",
    "# Make predictions\n",
    "y_pred = model.predict_proba(X_test)[:, 1]\n",
    "\n",
    "# Check the auc score of the model\n",
    "print(f'RandomForest AUC score on the X_test is: {roc_auc_score(y_test, y_pred)}\\n')\n",
    "\n",
    "# print classification report\n",
    "print(classification_report(y_test, [1 if x >= 0.5 else 0 for x in y_pred]))"
   ]
  },
  {
   "cell_type": "markdown",
   "metadata": {
    "id": "tFULqvbM659e"
   },
   "source": [
    "### Train different model and compare results"
   ]
  },
  {
   "cell_type": "code",
   "execution_count": 23,
   "metadata": {
    "colab": {
     "base_uri": "https://localhost:8080/"
    },
    "id": "LC1epBQp5lcx",
    "outputId": "d047a285-5652-4d40-db5b-8c346efc47c6"
   },
   "outputs": [
    {
     "ename": "LightGBMError",
     "evalue": "Do not support special JSON characters in feature name.",
     "output_type": "error",
     "traceback": [
      "\u001b[0;31m---------------------------------------------------------------------------\u001b[0m",
      "\u001b[0;31mLightGBMError\u001b[0m                             Traceback (most recent call last)",
      "\u001b[0;32m<ipython-input-23-fb073ca31a0c>\u001b[0m in \u001b[0;36m<module>\u001b[0;34m\u001b[0m\n\u001b[1;32m      1\u001b[0m \u001b[0;31m# Train model\u001b[0m\u001b[0;34m\u001b[0m\u001b[0;34m\u001b[0m\u001b[0;34m\u001b[0m\u001b[0m\n\u001b[1;32m      2\u001b[0m \u001b[0mmodel\u001b[0m \u001b[0;34m=\u001b[0m \u001b[0mLGBMClassifier\u001b[0m\u001b[0;34m(\u001b[0m\u001b[0;34m)\u001b[0m\u001b[0;34m\u001b[0m\u001b[0;34m\u001b[0m\u001b[0m\n\u001b[0;32m----> 3\u001b[0;31m \u001b[0mmodel\u001b[0m\u001b[0;34m.\u001b[0m\u001b[0mfit\u001b[0m\u001b[0;34m(\u001b[0m\u001b[0mX_train\u001b[0m\u001b[0;34m,\u001b[0m \u001b[0my_train\u001b[0m\u001b[0;34m)\u001b[0m\u001b[0;34m\u001b[0m\u001b[0;34m\u001b[0m\u001b[0m\n\u001b[0m\u001b[1;32m      4\u001b[0m \u001b[0;34m\u001b[0m\u001b[0m\n\u001b[1;32m      5\u001b[0m \u001b[0;31m# Make predictions\u001b[0m\u001b[0;34m\u001b[0m\u001b[0;34m\u001b[0m\u001b[0;34m\u001b[0m\u001b[0m\n",
      "\u001b[0;32m/usr/local/lib/python3.6/dist-packages/lightgbm/sklearn.py\u001b[0m in \u001b[0;36mfit\u001b[0;34m(self, X, y, sample_weight, init_score, eval_set, eval_names, eval_sample_weight, eval_class_weight, eval_init_score, eval_metric, early_stopping_rounds, verbose, feature_name, categorical_feature, callbacks, init_model)\u001b[0m\n\u001b[1;32m    893\u001b[0m                     \u001b[0meval_metric\u001b[0m\u001b[0;34m=\u001b[0m\u001b[0meval_metric\u001b[0m\u001b[0;34m,\u001b[0m \u001b[0mearly_stopping_rounds\u001b[0m\u001b[0;34m=\u001b[0m\u001b[0mearly_stopping_rounds\u001b[0m\u001b[0;34m,\u001b[0m\u001b[0;34m\u001b[0m\u001b[0;34m\u001b[0m\u001b[0m\n\u001b[1;32m    894\u001b[0m                     \u001b[0mverbose\u001b[0m\u001b[0;34m=\u001b[0m\u001b[0mverbose\u001b[0m\u001b[0;34m,\u001b[0m \u001b[0mfeature_name\u001b[0m\u001b[0;34m=\u001b[0m\u001b[0mfeature_name\u001b[0m\u001b[0;34m,\u001b[0m \u001b[0mcategorical_feature\u001b[0m\u001b[0;34m=\u001b[0m\u001b[0mcategorical_feature\u001b[0m\u001b[0;34m,\u001b[0m\u001b[0;34m\u001b[0m\u001b[0;34m\u001b[0m\u001b[0m\n\u001b[0;32m--> 895\u001b[0;31m                     callbacks=callbacks, init_model=init_model)\n\u001b[0m\u001b[1;32m    896\u001b[0m         \u001b[0;32mreturn\u001b[0m \u001b[0mself\u001b[0m\u001b[0;34m\u001b[0m\u001b[0;34m\u001b[0m\u001b[0m\n\u001b[1;32m    897\u001b[0m \u001b[0;34m\u001b[0m\u001b[0m\n",
      "\u001b[0;32m/usr/local/lib/python3.6/dist-packages/lightgbm/sklearn.py\u001b[0m in \u001b[0;36mfit\u001b[0;34m(self, X, y, sample_weight, init_score, group, eval_set, eval_names, eval_sample_weight, eval_class_weight, eval_init_score, eval_group, eval_metric, early_stopping_rounds, verbose, feature_name, categorical_feature, callbacks, init_model)\u001b[0m\n\u001b[1;32m    686\u001b[0m                               \u001b[0mevals_result\u001b[0m\u001b[0;34m=\u001b[0m\u001b[0mevals_result\u001b[0m\u001b[0;34m,\u001b[0m \u001b[0mfobj\u001b[0m\u001b[0;34m=\u001b[0m\u001b[0mself\u001b[0m\u001b[0;34m.\u001b[0m\u001b[0m_fobj\u001b[0m\u001b[0;34m,\u001b[0m \u001b[0mfeval\u001b[0m\u001b[0;34m=\u001b[0m\u001b[0meval_metrics_callable\u001b[0m\u001b[0;34m,\u001b[0m\u001b[0;34m\u001b[0m\u001b[0;34m\u001b[0m\u001b[0m\n\u001b[1;32m    687\u001b[0m                               \u001b[0mverbose_eval\u001b[0m\u001b[0;34m=\u001b[0m\u001b[0mverbose\u001b[0m\u001b[0;34m,\u001b[0m \u001b[0mfeature_name\u001b[0m\u001b[0;34m=\u001b[0m\u001b[0mfeature_name\u001b[0m\u001b[0;34m,\u001b[0m\u001b[0;34m\u001b[0m\u001b[0;34m\u001b[0m\u001b[0m\n\u001b[0;32m--> 688\u001b[0;31m                               callbacks=callbacks, init_model=init_model)\n\u001b[0m\u001b[1;32m    689\u001b[0m \u001b[0;34m\u001b[0m\u001b[0m\n\u001b[1;32m    690\u001b[0m         \u001b[0;32mif\u001b[0m \u001b[0mevals_result\u001b[0m\u001b[0;34m:\u001b[0m\u001b[0;34m\u001b[0m\u001b[0;34m\u001b[0m\u001b[0m\n",
      "\u001b[0;32m/usr/local/lib/python3.6/dist-packages/lightgbm/engine.py\u001b[0m in \u001b[0;36mtrain\u001b[0;34m(params, train_set, num_boost_round, valid_sets, valid_names, fobj, feval, init_model, feature_name, categorical_feature, early_stopping_rounds, evals_result, verbose_eval, learning_rates, keep_training_booster, callbacks)\u001b[0m\n\u001b[1;32m    226\u001b[0m     \u001b[0;31m# construct booster\u001b[0m\u001b[0;34m\u001b[0m\u001b[0;34m\u001b[0m\u001b[0;34m\u001b[0m\u001b[0m\n\u001b[1;32m    227\u001b[0m     \u001b[0;32mtry\u001b[0m\u001b[0;34m:\u001b[0m\u001b[0;34m\u001b[0m\u001b[0;34m\u001b[0m\u001b[0m\n\u001b[0;32m--> 228\u001b[0;31m         \u001b[0mbooster\u001b[0m \u001b[0;34m=\u001b[0m \u001b[0mBooster\u001b[0m\u001b[0;34m(\u001b[0m\u001b[0mparams\u001b[0m\u001b[0;34m=\u001b[0m\u001b[0mparams\u001b[0m\u001b[0;34m,\u001b[0m \u001b[0mtrain_set\u001b[0m\u001b[0;34m=\u001b[0m\u001b[0mtrain_set\u001b[0m\u001b[0;34m)\u001b[0m\u001b[0;34m\u001b[0m\u001b[0;34m\u001b[0m\u001b[0m\n\u001b[0m\u001b[1;32m    229\u001b[0m         \u001b[0;32mif\u001b[0m \u001b[0mis_valid_contain_train\u001b[0m\u001b[0;34m:\u001b[0m\u001b[0;34m\u001b[0m\u001b[0;34m\u001b[0m\u001b[0m\n\u001b[1;32m    230\u001b[0m             \u001b[0mbooster\u001b[0m\u001b[0;34m.\u001b[0m\u001b[0mset_train_data_name\u001b[0m\u001b[0;34m(\u001b[0m\u001b[0mtrain_data_name\u001b[0m\u001b[0;34m)\u001b[0m\u001b[0;34m\u001b[0m\u001b[0;34m\u001b[0m\u001b[0m\n",
      "\u001b[0;32m/usr/local/lib/python3.6/dist-packages/lightgbm/basic.py\u001b[0m in \u001b[0;36m__init__\u001b[0;34m(self, params, train_set, model_file, model_str, silent)\u001b[0m\n\u001b[1;32m   2227\u001b[0m                 )\n\u001b[1;32m   2228\u001b[0m             \u001b[0;31m# construct booster object\u001b[0m\u001b[0;34m\u001b[0m\u001b[0;34m\u001b[0m\u001b[0;34m\u001b[0m\u001b[0m\n\u001b[0;32m-> 2229\u001b[0;31m             \u001b[0mtrain_set\u001b[0m\u001b[0;34m.\u001b[0m\u001b[0mconstruct\u001b[0m\u001b[0;34m(\u001b[0m\u001b[0;34m)\u001b[0m\u001b[0;34m\u001b[0m\u001b[0;34m\u001b[0m\u001b[0m\n\u001b[0m\u001b[1;32m   2230\u001b[0m             \u001b[0;31m# copy the parameters from train_set\u001b[0m\u001b[0;34m\u001b[0m\u001b[0;34m\u001b[0m\u001b[0;34m\u001b[0m\u001b[0m\n\u001b[1;32m   2231\u001b[0m             \u001b[0mparams\u001b[0m\u001b[0;34m.\u001b[0m\u001b[0mupdate\u001b[0m\u001b[0;34m(\u001b[0m\u001b[0mtrain_set\u001b[0m\u001b[0;34m.\u001b[0m\u001b[0mget_params\u001b[0m\u001b[0;34m(\u001b[0m\u001b[0;34m)\u001b[0m\u001b[0;34m)\u001b[0m\u001b[0;34m\u001b[0m\u001b[0;34m\u001b[0m\u001b[0m\n",
      "\u001b[0;32m/usr/local/lib/python3.6/dist-packages/lightgbm/basic.py\u001b[0m in \u001b[0;36mconstruct\u001b[0;34m(self)\u001b[0m\n\u001b[1;32m   1470\u001b[0m                                 \u001b[0minit_score\u001b[0m\u001b[0;34m=\u001b[0m\u001b[0mself\u001b[0m\u001b[0;34m.\u001b[0m\u001b[0minit_score\u001b[0m\u001b[0;34m,\u001b[0m \u001b[0mpredictor\u001b[0m\u001b[0;34m=\u001b[0m\u001b[0mself\u001b[0m\u001b[0;34m.\u001b[0m\u001b[0m_predictor\u001b[0m\u001b[0;34m,\u001b[0m\u001b[0;34m\u001b[0m\u001b[0;34m\u001b[0m\u001b[0m\n\u001b[1;32m   1471\u001b[0m                                 \u001b[0msilent\u001b[0m\u001b[0;34m=\u001b[0m\u001b[0mself\u001b[0m\u001b[0;34m.\u001b[0m\u001b[0msilent\u001b[0m\u001b[0;34m,\u001b[0m \u001b[0mfeature_name\u001b[0m\u001b[0;34m=\u001b[0m\u001b[0mself\u001b[0m\u001b[0;34m.\u001b[0m\u001b[0mfeature_name\u001b[0m\u001b[0;34m,\u001b[0m\u001b[0;34m\u001b[0m\u001b[0;34m\u001b[0m\u001b[0m\n\u001b[0;32m-> 1472\u001b[0;31m                                 categorical_feature=self.categorical_feature, params=self.params)\n\u001b[0m\u001b[1;32m   1473\u001b[0m             \u001b[0;32mif\u001b[0m \u001b[0mself\u001b[0m\u001b[0;34m.\u001b[0m\u001b[0mfree_raw_data\u001b[0m\u001b[0;34m:\u001b[0m\u001b[0;34m\u001b[0m\u001b[0;34m\u001b[0m\u001b[0m\n\u001b[1;32m   1474\u001b[0m                 \u001b[0mself\u001b[0m\u001b[0;34m.\u001b[0m\u001b[0mdata\u001b[0m \u001b[0;34m=\u001b[0m \u001b[0;32mNone\u001b[0m\u001b[0;34m\u001b[0m\u001b[0;34m\u001b[0m\u001b[0m\n",
      "\u001b[0;32m/usr/local/lib/python3.6/dist-packages/lightgbm/basic.py\u001b[0m in \u001b[0;36m_lazy_init\u001b[0;34m(self, data, label, reference, weight, group, init_score, predictor, silent, feature_name, categorical_feature, params)\u001b[0m\n\u001b[1;32m   1296\u001b[0m             \u001b[0;32mraise\u001b[0m \u001b[0mTypeError\u001b[0m\u001b[0;34m(\u001b[0m\u001b[0;34m'Wrong predictor type {}'\u001b[0m\u001b[0;34m.\u001b[0m\u001b[0mformat\u001b[0m\u001b[0;34m(\u001b[0m\u001b[0mtype\u001b[0m\u001b[0;34m(\u001b[0m\u001b[0mpredictor\u001b[0m\u001b[0;34m)\u001b[0m\u001b[0;34m.\u001b[0m\u001b[0m__name__\u001b[0m\u001b[0;34m)\u001b[0m\u001b[0;34m)\u001b[0m\u001b[0;34m\u001b[0m\u001b[0;34m\u001b[0m\u001b[0m\n\u001b[1;32m   1297\u001b[0m         \u001b[0;31m# set feature names\u001b[0m\u001b[0;34m\u001b[0m\u001b[0;34m\u001b[0m\u001b[0;34m\u001b[0m\u001b[0m\n\u001b[0;32m-> 1298\u001b[0;31m         \u001b[0;32mreturn\u001b[0m \u001b[0mself\u001b[0m\u001b[0;34m.\u001b[0m\u001b[0mset_feature_name\u001b[0m\u001b[0;34m(\u001b[0m\u001b[0mfeature_name\u001b[0m\u001b[0;34m)\u001b[0m\u001b[0;34m\u001b[0m\u001b[0;34m\u001b[0m\u001b[0m\n\u001b[0m\u001b[1;32m   1299\u001b[0m \u001b[0;34m\u001b[0m\u001b[0m\n\u001b[1;32m   1300\u001b[0m     \u001b[0;32mdef\u001b[0m \u001b[0m__init_from_np2d\u001b[0m\u001b[0;34m(\u001b[0m\u001b[0mself\u001b[0m\u001b[0;34m,\u001b[0m \u001b[0mmat\u001b[0m\u001b[0;34m,\u001b[0m \u001b[0mparams_str\u001b[0m\u001b[0;34m,\u001b[0m \u001b[0mref_dataset\u001b[0m\u001b[0;34m)\u001b[0m\u001b[0;34m:\u001b[0m\u001b[0;34m\u001b[0m\u001b[0;34m\u001b[0m\u001b[0m\n",
      "\u001b[0;32m/usr/local/lib/python3.6/dist-packages/lightgbm/basic.py\u001b[0m in \u001b[0;36mset_feature_name\u001b[0;34m(self, feature_name)\u001b[0m\n\u001b[1;32m   1781\u001b[0m                 \u001b[0mself\u001b[0m\u001b[0;34m.\u001b[0m\u001b[0mhandle\u001b[0m\u001b[0;34m,\u001b[0m\u001b[0;34m\u001b[0m\u001b[0;34m\u001b[0m\u001b[0m\n\u001b[1;32m   1782\u001b[0m                 \u001b[0mc_array\u001b[0m\u001b[0;34m(\u001b[0m\u001b[0mctypes\u001b[0m\u001b[0;34m.\u001b[0m\u001b[0mc_char_p\u001b[0m\u001b[0;34m,\u001b[0m \u001b[0mc_feature_name\u001b[0m\u001b[0;34m)\u001b[0m\u001b[0;34m,\u001b[0m\u001b[0;34m\u001b[0m\u001b[0;34m\u001b[0m\u001b[0m\n\u001b[0;32m-> 1783\u001b[0;31m                 ctypes.c_int(len(feature_name))))\n\u001b[0m\u001b[1;32m   1784\u001b[0m         \u001b[0;32mreturn\u001b[0m \u001b[0mself\u001b[0m\u001b[0;34m\u001b[0m\u001b[0;34m\u001b[0m\u001b[0m\n\u001b[1;32m   1785\u001b[0m \u001b[0;34m\u001b[0m\u001b[0m\n",
      "\u001b[0;32m/usr/local/lib/python3.6/dist-packages/lightgbm/basic.py\u001b[0m in \u001b[0;36m_safe_call\u001b[0;34m(ret)\u001b[0m\n\u001b[1;32m    108\u001b[0m     \"\"\"\n\u001b[1;32m    109\u001b[0m     \u001b[0;32mif\u001b[0m \u001b[0mret\u001b[0m \u001b[0;34m!=\u001b[0m \u001b[0;36m0\u001b[0m\u001b[0;34m:\u001b[0m\u001b[0;34m\u001b[0m\u001b[0;34m\u001b[0m\u001b[0m\n\u001b[0;32m--> 110\u001b[0;31m         \u001b[0;32mraise\u001b[0m \u001b[0mLightGBMError\u001b[0m\u001b[0;34m(\u001b[0m\u001b[0m_LIB\u001b[0m\u001b[0;34m.\u001b[0m\u001b[0mLGBM_GetLastError\u001b[0m\u001b[0;34m(\u001b[0m\u001b[0;34m)\u001b[0m\u001b[0;34m.\u001b[0m\u001b[0mdecode\u001b[0m\u001b[0;34m(\u001b[0m\u001b[0;34m'utf-8'\u001b[0m\u001b[0;34m)\u001b[0m\u001b[0;34m)\u001b[0m\u001b[0;34m\u001b[0m\u001b[0;34m\u001b[0m\u001b[0m\n\u001b[0m\u001b[1;32m    111\u001b[0m \u001b[0;34m\u001b[0m\u001b[0m\n\u001b[1;32m    112\u001b[0m \u001b[0;34m\u001b[0m\u001b[0m\n",
      "\u001b[0;31mLightGBMError\u001b[0m: Do not support special JSON characters in feature name."
     ]
    }
   ],
   "source": [
    "# # Train model\n",
    "# model = LGBMClassifier()\n",
    "# model.fit(X_train, y_train)\n",
    "\n",
    "# # Make predictions\n",
    "# y_pred = model.predict_proba(X_test)[:, 1]\n",
    "\n",
    "# # Check the auc score of the model\n",
    "# print(f'LGBM AUC score on the X_test is: {roc_auc_score(y_test, y_pred)}\\n')\n",
    "\n",
    "# # print classification report\n",
    "# print(classification_report(y_test, [1 if x >= 0.5 else 0 for x in y_pred]))"
   ]
  },
  {
   "cell_type": "markdown",
   "metadata": {
    "id": "bXKU5avW6uaT"
   },
   "source": [
    "- There is a light improvement when using LGBMClassifier\n",
    "\n",
    "[More on AUC score](https://developers.google.com/machine-learning/crash-course/classification/roc-and-auc#:~:text=AUC%20represents%20the%20probability%20that,has%20an%20AUC%20of%201.0.)"
   ]
  },
  {
   "cell_type": "markdown",
   "metadata": {
    "id": "2L7-CX1c7l-u"
   },
   "source": [
    "### Making predictions of the test set and creating a submission file"
   ]
  },
  {
   "cell_type": "code",
   "execution_count": 26,
   "metadata": {
    "colab": {
     "base_uri": "https://localhost:8080/",
     "height": 281
    },
    "id": "2CY70-KV5lYO",
    "outputId": "a928aaf6-c5c9-4e76-eda1-377e999617a1"
   },
   "outputs": [
    {
     "data": {
      "image/png": "[encoded data removed]",
      "text/plain": [
       "<matplotlib.figure.Figure at 0x7f640ffa8b70>"
      ]
     },
     "metadata": {
      "needs_background": "light"
     },
     "output_type": "display_data"
    }
   ],
   "source": [
    "# Make prediction on the test set\n",
    "test_df = test_df[main_cols]\n",
    "predictions = model.predict_proba(test_df)[:, 1]\n",
    "\n",
    "# # Create a submission file\n",
    "sub_file = samplesubmission.copy()\n",
    "sub_file.target = predictions\n",
    "\n",
    "# # Check the distribution of your predictions\n",
    "sns.countplot([1 if x >= 0.5 else 0 for x in sub_file.target])\n",
    "plt.title('Predicted Variable Distribution');"
   ]
  },
  {
   "cell_type": "code",
   "execution_count": null,
   "metadata": {
    "colab": {
     "base_uri": "https://localhost:8080/",
     "height": 195
    },
    "id": "oroCrCK27v-4",
    "outputId": "6de7be09-47f7-41d7-e59e-1c30726c8c3f"
   },
   "outputs": [],
   "source": [
    "# Create a csv file and upload to zindi \n",
    "sub_file.to_csv('Baseline.csv', index = False)\n",
    "sub_file.head()"
   ]
  },
  {
   "cell_type": "markdown",
   "metadata": {
    "id": "co8AT8lL7y5s"
   },
   "source": [
    "###More Tips\n",
    "- Thorough EDA and domain knowledge sourcing\n",
    "- Re-group Categorical features \n",
    "- More Feature Engineering \n",
    "- Dataset balancing - oversampling, undersampling, SMOTE...\n",
    "- Ensembling of models \n",
    "- Cross-validation: Group folds, Stratified..."
   ]
  },
  {
   "cell_type": "markdown",
   "metadata": {
    "id": "ih0ejC9w7617"
   },
   "source": [
    "# ******************* GOOD LUCK!!! ***************************"
   ]
  }
 ],
 "metadata": {
  "colab": {
   "collapsed_sections": [],
   "name": "Financial_Resilience_Python_StarterNotebook.ipynb",
   "provenance": []
  },
  "kernelspec": {
   "display_name": "Python 3",
   "language": "python",
   "name": "python3"
  },
  "language_info": {
   "codemirror_mode": {
    "name": "ipython",
    "version": 3
   },
   "file_extension": ".py",
   "mimetype": "text/x-python",
   "name": "python",
   "nbconvert_exporter": "python",
   "pygments_lexer": "ipython3",
   "version": "3.6.9"
  }
 },
 "nbformat": 4,
 "nbformat_minor": 1
}
