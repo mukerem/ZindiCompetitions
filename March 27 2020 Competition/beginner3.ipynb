{
 "cells": [
  {
   "cell_type": "code",
   "execution_count": 346,
   "metadata": {
    "id": "GsxsCJyNFxBZ",
    "scrolled": true
   },
   "outputs": [],
   "source": [
    "# Import librariesmodel = RandomForestClassifier()\n",
    "import pandas as pd\n",
    "import numpy as np\n",
    "import matplotlib.pyplot as plt\n",
    "import seaborn as sns\n",
    "from sklearn.metrics import auc, classification_report, roc_auc_score\n",
    "from sklearn.model_selection import train_test_split\n",
    "from lightgbm import LGBMClassifier\n",
    "from sklearn.ensemble import RandomForestClassifier\n",
    "from sklearn.ensemble import RandomForestRegressor, GradientBoostingRegressor, AdaBoostRegressor\n",
    "from xgboost import XGBRegressor\n",
    "from sklearn.model_selection import KFold, cross_val_score\n",
    "from sklearn.tree import DecisionTreeRegressor\n",
    "from sklearn.svm import SVR\n",
    "from sklearn.neighbors import KNeighborsRegressor\n",
    "from sklearn.linear_model import LinearRegression\n",
    "from sklearn.metrics import mean_squared_error\n",
    "from catboost import CatBoostRegressor, CatBoostClassifier\n",
    "\n",
    "pd.set_option('max_colwidth', 500)\n",
    "%matplotlib inline\n",
    "import warnings\n",
    "warnings.filterwarnings('ignore')"
   ]
  },
  {
   "cell_type": "code",
   "execution_count": 347,
   "metadata": {
    "id": "0_7BVS92U0Ti"
   },
   "outputs": [],
   "source": [
    "# Load files\n",
    "train = pd.read_csv('Train.csv')\n",
    "test = pd.read_csv('Test.csv')\n",
    "samplesubmission = pd.read_csv('SampleSubmission.csv')\n",
    "variable_definations = pd.read_csv('VariableDefinitions.csv')\n",
    "\n"
   ]
  },
  {
   "cell_type": "code",
   "execution_count": 348,
   "metadata": {},
   "outputs": [],
   "source": [
    "# m = max(train['population'])\n",
    "# for i in range(train.shape[0]):\n",
    "#     train['population'][i] /= m"
   ]
  },
  {
   "cell_type": "code",
   "execution_count": 349,
   "metadata": {},
   "outputs": [],
   "source": [
    "# m = max(test['population'])\n",
    "# for i in range(test.shape[0]):\n",
    "#     train['population'][i] /= m"
   ]
  },
  {
   "cell_type": "code",
   "execution_count": 350,
   "metadata": {},
   "outputs": [],
   "source": [
    "# a = ['population', 'age', 'Q2', 'Q3', 'Q7', 'Q8', 'Q9', 'Q15', 'Q16', 'Q17a', 'Q17b', 'Q20', 'Q24', 'Q25', 'Q26', 'Q27']\n",
    "# a = ['Q7']\n",
    "# train = train.drop(a, axis=1)\n",
    "\n",
    "# print(train[[\"target\",\"age\"]].corr())\n"
   ]
  },
  {
   "cell_type": "code",
   "execution_count": 351,
   "metadata": {},
   "outputs": [],
   "source": [
    "# test = test.drop(a, axis=1)"
   ]
  },
  {
   "cell_type": "code",
   "execution_count": 352,
   "metadata": {},
   "outputs": [],
   "source": [
    "# # Category columns\n",
    "# all_data = train\n",
    "# cat_cols = ['country', 'region', 'owns_mobile'] + [x for x in all_data.columns if x.startswith('Q')]\n",
    "# num_cols = ['age', 'population']\n",
    "# # num_cols = []\n",
    "\n",
    "# # Change columns to their respective datatypes\n"
   ]
  },
  {
   "cell_type": "code",
   "execution_count": 353,
   "metadata": {},
   "outputs": [
    {
     "name": "stdout",
     "output_type": "stream",
     "text": [
      "The shape of the combined dataframe is: (149810, 36)\n"
     ]
    }
   ],
   "source": [
    "# Combine train and test set\n",
    "ntrain = train.shape[0] # to be used to split train and test set from the combined dataframe\n",
    "\n",
    "all_data = pd.concat((train, test)).reset_index(drop=True)\n",
    "print(f'The shape of the combined dataframe is: {all_data.shape}')"
   ]
  },
  {
   "cell_type": "code",
   "execution_count": 354,
   "metadata": {},
   "outputs": [
    {
     "name": "stdout",
     "output_type": "stream",
     "text": [
      "<class 'pandas.core.frame.DataFrame'>\n",
      "RangeIndex: 149810 entries, 0 to 149809\n",
      "Data columns (total 36 columns):\n",
      "ID             149810 non-null object\n",
      "Q1             149810 non-null int64\n",
      "Q10a           149810 non-null int64\n",
      "Q10b           149810 non-null int64\n",
      "Q11            149810 non-null int64\n",
      "Q12            149810 non-null int64\n",
      "Q13a           149810 non-null int64\n",
      "Q14            149810 non-null int64\n",
      "Q15            149810 non-null int64\n",
      "Q16            149810 non-null int64\n",
      "Q17a           149810 non-null int64\n",
      "Q17b           149810 non-null int64\n",
      "Q19            115206 non-null float64\n",
      "Q2             68137 non-null float64\n",
      "Q20            115206 non-null float64\n",
      "Q21            149810 non-null int64\n",
      "Q22            149810 non-null int64\n",
      "Q23            53580 non-null float64\n",
      "Q24            149810 non-null int64\n",
      "Q25            149810 non-null int64\n",
      "Q26            115206 non-null float64\n",
      "Q27            83535 non-null float64\n",
      "Q28            105372 non-null float64\n",
      "Q3             64562 non-null float64\n",
      "Q4             82004 non-null float64\n",
      "Q5             82004 non-null float64\n",
      "Q6             149810 non-null int64\n",
      "Q7             29515 non-null float64\n",
      "Q8             84272 non-null float64\n",
      "Q9             84272 non-null float64\n",
      "age            149399 non-null float64\n",
      "country        149810 non-null object\n",
      "owns_mobile    149808 non-null float64\n",
      "population     149810 non-null float64\n",
      "region         148830 non-null object\n",
      "target         104867 non-null float64\n",
      "dtypes: float64(17), int64(16), object(3)\n",
      "memory usage: 41.1+ MB\n"
     ]
    }
   ],
   "source": [
    "all_data.info()"
   ]
  },
  {
   "cell_type": "code",
   "execution_count": 355,
   "metadata": {},
   "outputs": [
    {
     "name": "stdout",
     "output_type": "stream",
     "text": [
      "<class 'pandas.core.frame.DataFrame'>\n",
      "RangeIndex: 149810 entries, 0 to 149809\n",
      "Data columns (total 36 columns):\n",
      "ID             149810 non-null object\n",
      "Q1             149810 non-null category\n",
      "Q10a           149810 non-null category\n",
      "Q10b           149810 non-null category\n",
      "Q11            149810 non-null category\n",
      "Q12            149810 non-null category\n",
      "Q13a           149810 non-null category\n",
      "Q14            149810 non-null category\n",
      "Q15            149810 non-null category\n",
      "Q16            149810 non-null category\n",
      "Q17a           149810 non-null category\n",
      "Q17b           149810 non-null category\n",
      "Q19            115206 non-null category\n",
      "Q2             68137 non-null category\n",
      "Q20            115206 non-null category\n",
      "Q21            149810 non-null category\n",
      "Q22            149810 non-null category\n",
      "Q23            53580 non-null category\n",
      "Q24            149810 non-null category\n",
      "Q25            149810 non-null category\n",
      "Q26            115206 non-null category\n",
      "Q27            83535 non-null category\n",
      "Q28            105372 non-null category\n",
      "Q3             64562 non-null category\n",
      "Q4             82004 non-null category\n",
      "Q5             82004 non-null category\n",
      "Q6             149810 non-null category\n",
      "Q7             29515 non-null category\n",
      "Q8             84272 non-null category\n",
      "Q9             84272 non-null category\n",
      "age            149399 non-null float64\n",
      "country        149810 non-null category\n",
      "owns_mobile    149808 non-null category\n",
      "population     149810 non-null float64\n",
      "region         148830 non-null category\n",
      "target         104867 non-null float64\n",
      "dtypes: category(32), float64(3), object(1)\n",
      "memory usage: 9.3+ MB\n"
     ]
    }
   ],
   "source": [
    "# Category columns\n",
    "cat_cols = ['country', 'region', 'owns_mobile'] + [x for x in all_data.columns if x.startswith('Q')]\n",
    "num_cols = ['age', 'population']\n",
    "\n",
    "# Change columns to their respective datatypes\n",
    "all_data[cat_cols] = all_data[cat_cols].astype('category')\n",
    "\n",
    "# Confirm whether the changes have been successful\n",
    "all_data.info()"
   ]
  },
  {
   "cell_type": "code",
   "execution_count": 356,
   "metadata": {},
   "outputs": [],
   "source": [
    "# Fill in missing values\n",
    "# For cat cols and date cols fill in with mode and for num cols fill in with 9999\n",
    "for col in all_data.columns:\n",
    "  if col in cat_cols:\n",
    "    all_data[col] = all_data[col].fillna(all_data[col].mode()[0])\n",
    "  elif col in num_cols:\n",
    "    all_data[col] = all_data[col].fillna(all_data[col].mean())\n",
    "\n",
    "# Confirm that there aren't any missing values"
   ]
  },
  {
   "cell_type": "code",
   "execution_count": 357,
   "metadata": {},
   "outputs": [],
   "source": [
    "#Using Pearson Correlation\n",
    "# plt.figure(figsize=(12,10))\n",
    "# cor = all_data.corr()\n",
    "# sns.heatmap(cor, annot=True, cmap=plt.cm.Reds)\n",
    "# plt.show()\n",
    "# cor"
   ]
  },
  {
   "cell_type": "code",
   "execution_count": 358,
   "metadata": {},
   "outputs": [],
   "source": [
    "# #Correlation with output variable\n",
    "# cor_target = abs(cor[\"target\"])\n",
    "# # #Selecting highly correlated features\n",
    "# relevant_features = cor_target[cor_target<0.01]\n",
    "# relevant_features\n",
    "# # cor_target"
   ]
  },
  {
   "cell_type": "code",
   "execution_count": 359,
   "metadata": {
    "scrolled": true
   },
   "outputs": [
    {
     "data": {
      "text/html": [
       "<div>\n",
       "<style scoped>\n",
       "    .dataframe tbody tr th:only-of-type {\n",
       "        vertical-align: middle;\n",
       "    }\n",
       "\n",
       "    .dataframe tbody tr th {\n",
       "        vertical-align: top;\n",
       "    }\n",
       "\n",
       "    .dataframe thead th {\n",
       "        text-align: right;\n",
       "    }\n",
       "</style>\n",
       "<table border=\"1\" class=\"dataframe\">\n",
       "  <thead>\n",
       "    <tr style=\"text-align: right;\">\n",
       "      <th></th>\n",
       "      <th>ID</th>\n",
       "      <th>age</th>\n",
       "      <th>population</th>\n",
       "      <th>target</th>\n",
       "      <th>country_Afghanistan</th>\n",
       "      <th>country_Albania</th>\n",
       "      <th>country_Algeria</th>\n",
       "      <th>country_Argentina</th>\n",
       "      <th>country_Armenia</th>\n",
       "      <th>country_Australia</th>\n",
       "      <th>...</th>\n",
       "      <th>Q7_3.0</th>\n",
       "      <th>Q7_4.0</th>\n",
       "      <th>Q8_1.0</th>\n",
       "      <th>Q8_2.0</th>\n",
       "      <th>Q8_3.0</th>\n",
       "      <th>Q8_4.0</th>\n",
       "      <th>Q9_1.0</th>\n",
       "      <th>Q9_2.0</th>\n",
       "      <th>Q9_3.0</th>\n",
       "      <th>Q9_4.0</th>\n",
       "    </tr>\n",
       "  </thead>\n",
       "  <tbody>\n",
       "    <tr>\n",
       "      <th>0</th>\n",
       "      <td>ID_0000020532</td>\n",
       "      <td>66.0</td>\n",
       "      <td>25550170.0</td>\n",
       "      <td>0.0</td>\n",
       "      <td>0</td>\n",
       "      <td>0</td>\n",
       "      <td>0</td>\n",
       "      <td>0</td>\n",
       "      <td>0</td>\n",
       "      <td>0</td>\n",
       "      <td>...</td>\n",
       "      <td>0</td>\n",
       "      <td>0</td>\n",
       "      <td>1</td>\n",
       "      <td>0</td>\n",
       "      <td>0</td>\n",
       "      <td>0</td>\n",
       "      <td>1</td>\n",
       "      <td>0</td>\n",
       "      <td>0</td>\n",
       "      <td>0</td>\n",
       "    </tr>\n",
       "    <tr>\n",
       "      <th>1</th>\n",
       "      <td>ID_0000075765</td>\n",
       "      <td>44.0</td>\n",
       "      <td>4591023.0</td>\n",
       "      <td>1.0</td>\n",
       "      <td>0</td>\n",
       "      <td>0</td>\n",
       "      <td>0</td>\n",
       "      <td>0</td>\n",
       "      <td>0</td>\n",
       "      <td>0</td>\n",
       "      <td>...</td>\n",
       "      <td>0</td>\n",
       "      <td>0</td>\n",
       "      <td>1</td>\n",
       "      <td>0</td>\n",
       "      <td>0</td>\n",
       "      <td>0</td>\n",
       "      <td>1</td>\n",
       "      <td>0</td>\n",
       "      <td>0</td>\n",
       "      <td>0</td>\n",
       "    </tr>\n",
       "    <tr>\n",
       "      <th>2</th>\n",
       "      <td>ID_0000085491</td>\n",
       "      <td>29.0</td>\n",
       "      <td>25550170.0</td>\n",
       "      <td>0.0</td>\n",
       "      <td>0</td>\n",
       "      <td>0</td>\n",
       "      <td>0</td>\n",
       "      <td>0</td>\n",
       "      <td>0</td>\n",
       "      <td>0</td>\n",
       "      <td>...</td>\n",
       "      <td>0</td>\n",
       "      <td>0</td>\n",
       "      <td>1</td>\n",
       "      <td>0</td>\n",
       "      <td>0</td>\n",
       "      <td>0</td>\n",
       "      <td>1</td>\n",
       "      <td>0</td>\n",
       "      <td>0</td>\n",
       "      <td>0</td>\n",
       "    </tr>\n",
       "    <tr>\n",
       "      <th>3</th>\n",
       "      <td>ID_0000144505</td>\n",
       "      <td>44.0</td>\n",
       "      <td>30491168.0</td>\n",
       "      <td>1.0</td>\n",
       "      <td>0</td>\n",
       "      <td>0</td>\n",
       "      <td>0</td>\n",
       "      <td>0</td>\n",
       "      <td>0</td>\n",
       "      <td>0</td>\n",
       "      <td>...</td>\n",
       "      <td>0</td>\n",
       "      <td>0</td>\n",
       "      <td>1</td>\n",
       "      <td>0</td>\n",
       "      <td>0</td>\n",
       "      <td>0</td>\n",
       "      <td>1</td>\n",
       "      <td>0</td>\n",
       "      <td>0</td>\n",
       "      <td>0</td>\n",
       "    </tr>\n",
       "    <tr>\n",
       "      <th>4</th>\n",
       "      <td>ID_0000214184</td>\n",
       "      <td>36.0</td>\n",
       "      <td>93002320.0</td>\n",
       "      <td>1.0</td>\n",
       "      <td>0</td>\n",
       "      <td>0</td>\n",
       "      <td>0</td>\n",
       "      <td>0</td>\n",
       "      <td>0</td>\n",
       "      <td>0</td>\n",
       "      <td>...</td>\n",
       "      <td>0</td>\n",
       "      <td>0</td>\n",
       "      <td>1</td>\n",
       "      <td>0</td>\n",
       "      <td>0</td>\n",
       "      <td>0</td>\n",
       "      <td>1</td>\n",
       "      <td>0</td>\n",
       "      <td>0</td>\n",
       "      <td>0</td>\n",
       "    </tr>\n",
       "  </tbody>\n",
       "</table>\n",
       "<p>5 rows × 276 columns</p>\n",
       "</div>"
      ],
      "text/plain": [
       "              ID   age  population  target  country_Afghanistan  \\\n",
       "0  ID_0000020532  66.0  25550170.0     0.0                    0   \n",
       "1  ID_0000075765  44.0   4591023.0     1.0                    0   \n",
       "2  ID_0000085491  29.0  25550170.0     0.0                    0   \n",
       "3  ID_0000144505  44.0  30491168.0     1.0                    0   \n",
       "4  ID_0000214184  36.0  93002320.0     1.0                    0   \n",
       "\n",
       "   country_Albania  country_Algeria  country_Argentina  country_Armenia  \\\n",
       "0                0                0                  0                0   \n",
       "1                0                0                  0                0   \n",
       "2                0                0                  0                0   \n",
       "3                0                0                  0                0   \n",
       "4                0                0                  0                0   \n",
       "\n",
       "   country_Australia  ...  Q7_3.0  Q7_4.0  Q8_1.0  Q8_2.0  Q8_3.0  Q8_4.0  \\\n",
       "0                  0  ...       0       0       1       0       0       0   \n",
       "1                  0  ...       0       0       1       0       0       0   \n",
       "2                  0  ...       0       0       1       0       0       0   \n",
       "3                  0  ...       0       0       1       0       0       0   \n",
       "4                  0  ...       0       0       1       0       0       0   \n",
       "\n",
       "   Q9_1.0  Q9_2.0  Q9_3.0  Q9_4.0  \n",
       "0       1       0       0       0  \n",
       "1       1       0       0       0  \n",
       "2       1       0       0       0  \n",
       "3       1       0       0       0  \n",
       "4       1       0       0       0  \n",
       "\n",
       "[5 rows x 276 columns]"
      ]
     },
     "execution_count": 359,
     "metadata": {},
     "output_type": "execute_result"
    }
   ],
   "source": [
    "# Use one hot encoding to turn categorical features to numerical features\n",
    "# Encode categorical features\n",
    "all_data[cat_cols] = all_data[cat_cols].astype('category')\n",
    "all_data = pd.get_dummies(data = all_data, columns = cat_cols)\n",
    "all_data.head()"
   ]
  },
  {
   "cell_type": "code",
   "execution_count": 360,
   "metadata": {},
   "outputs": [],
   "source": [
    "# train = all_data"
   ]
  },
  {
   "cell_type": "code",
   "execution_count": 361,
   "metadata": {},
   "outputs": [],
   "source": [
    "# # Category columns\n",
    "# all_data = test\n",
    "# cat_cols = ['country', 'region', 'owns_mobile'] + [x for x in all_data.columns if x.startswith('Q')]\n",
    "# num_cols = ['age', 'population']\n",
    "\n",
    "# # num_cols = []\n",
    "# # Change columns to their respective datatypes\n",
    "# all_data[cat_cols] = all_data[cat_cols].astype('category')"
   ]
  },
  {
   "cell_type": "code",
   "execution_count": 362,
   "metadata": {},
   "outputs": [],
   "source": [
    "# # Fill in missing values\n",
    "# # For cat cols and date cols fill in with mode and for num cols fill in with 9999\n",
    "# for col in all_data.columns:\n",
    "#   if col in cat_cols:\n",
    "#     all_data[col] = all_data[col].fillna(all_data[col].mode()[0])\n",
    "#   elif col in num_cols:\n",
    "#     all_data[col] = all_data[col].fillna(all_data[col].mean())\n",
    "\n",
    "# # Confirm that there aren't any missing values"
   ]
  },
  {
   "cell_type": "code",
   "execution_count": 363,
   "metadata": {},
   "outputs": [],
   "source": [
    "# # Use one hot encoding to turn categorical features to numerical features\n",
    "# # Encode categorical features\n",
    "# all_data = pd.get_dummies(data = all_data, columns = cat_cols)\n",
    "# all_data.head()"
   ]
  },
  {
   "cell_type": "code",
   "execution_count": 364,
   "metadata": {},
   "outputs": [],
   "source": [
    "# test = all_data"
   ]
  },
  {
   "cell_type": "code",
   "execution_count": 365,
   "metadata": {},
   "outputs": [
    {
     "data": {
      "text/plain": [
       "((104867, 276), (44943, 276))"
      ]
     },
     "execution_count": 365,
     "metadata": {},
     "output_type": "execute_result"
    }
   ],
   "source": [
    "# Separate train and test data from the combined dataframe\n",
    "train_df = all_data[:ntrain]\n",
    "test_df = all_data[ntrain:]\n",
    "\n",
    "# Check the shapes of the split dataset\n",
    "train_df.shape, test_df.shape"
   ]
  },
  {
   "cell_type": "code",
   "execution_count": 366,
   "metadata": {},
   "outputs": [
    {
     "name": "stdout",
     "output_type": "stream",
     "text": [
      "<class 'pandas.core.frame.DataFrame'>\n",
      "RangeIndex: 149810 entries, 0 to 149809\n",
      "Columns: 276 entries, ID to Q9_4.0\n",
      "dtypes: float64(3), object(1), uint8(272)\n",
      "memory usage: 43.4+ MB\n"
     ]
    }
   ],
   "source": [
    "all_data.info()"
   ]
  },
  {
   "cell_type": "code",
   "execution_count": 367,
   "metadata": {},
   "outputs": [
    {
     "name": "stdout",
     "output_type": "stream",
     "text": [
      "0.804931836621956 40\n",
      "0.8050935290424495 41\n",
      "0.8045552637030966 42\n",
      "0.8043789083654173 43\n",
      "0.8045609471651265 44\n",
      "0.8046014449434735 45\n",
      "0.8043769315992441 46\n",
      "0.8049002788878967 47\n",
      "0.8044021006241604 48\n",
      "0.8045680743094822 49\n",
      "0.8044251870958363 50\n",
      "0.8049912682110363 51\n",
      "0.804827825118297 52\n",
      "0.8048090240599616 53\n",
      "0.8051187188099279 54\n",
      "0.8046125048776135 55\n",
      "0.804428593024542 56\n",
      "0.8045565165538506 57\n",
      "0.8044014078225843 58\n",
      "0.8051088619443928 59\n",
      "[(0.8043769315992441, 46), (0.8043789083654173, 43), (0.8044014078225843, 58), (0.8044021006241604, 48), (0.8044251870958363, 50), (0.804428593024542, 56), (0.8045552637030966, 42), (0.8045565165538506, 57), (0.8045609471651265, 44), (0.8045680743094822, 49), (0.8046014449434735, 45), (0.8046125048776135, 55), (0.8048090240599616, 53), (0.804827825118297, 52), (0.8049002788878967, 47), (0.804931836621956, 40), (0.8049912682110363, 51), (0.8050935290424495, 41), (0.8051088619443928, 59), (0.8051187188099279, 54)]\n"
     ]
    }
   ],
   "source": [
    "# Select main columns to be used in training\n",
    "main_cols = all_data.columns.difference(['ID', 'target'])\n",
    "# X = train[main_cols]\n",
    "# y = train.target.astype(int)\n",
    "X = train_df[main_cols]\n",
    "y = train_df.target.astype(int)\n",
    "# Split data into train and test sets\n",
    "ans = []\n",
    "for i in range(40, 60):\n",
    "    X_train, X_test, y_train, y_test = train_test_split(X,y,test_size=0.3, random_state=80)\n",
    "\n",
    "    # Train model\n",
    "    model = CatBoostRegressor(verbose=0, random_state=i)\n",
    "    model.fit(X_train, y_train)\n",
    "\n",
    "    # Make predictions\n",
    "    y_pred = model.predict(X_test)\n",
    "    acc = roc_auc_score(y_test, y_pred)\n",
    "    ans.append((acc, i))\n",
    "    print(acc, i)\n",
    "ans.sort()\n",
    "print(ans)\n",
    "# X_train, X_test, y_train, y_test = train_test_split(X,y,test_size=0.15, random_state=80)\n",
    "\n",
    "# model = CatBoostRegressor(verbose=0)\n",
    "# model.fit(X, y)\n",
    "\n",
    "# # Make predictions\n",
    "# y_pred = model.predict(X_test)\n",
    "# print(f'AUC score on the X_test is: {roc_auc_score(y_test, y_pred)}\\n')\n"
   ]
  },
  {
   "cell_type": "code",
   "execution_count": 368,
   "metadata": {
    "colab": {
     "base_uri": "https://localhost:8080/",
     "height": 281
    },
    "id": "2CY70-KV5lYO",
    "outputId": "a928aaf6-c5c9-4e76-eda1-377e999617a1"
   },
   "outputs": [
    {
     "data": {
      "image/png": "[encoded data removed]",
      "text/plain": [
       "<matplotlib.figure.Figure at 0x7f79ac861588>"
      ]
     },
     "metadata": {
      "needs_background": "light"
     },
     "output_type": "display_data"
    }
   ],
   "source": [
    "# Make prediction on the test set\n",
    "# test = test[main_cols]\n",
    "test_df = test_df[main_cols]\n",
    "# predictions1 = model.predict(test_df)\n",
    "# predictions2 = model2.predict(test_df)\n",
    "\n",
    "# predictions  = (predictions1 + predictions2) / 2.0\n",
    "predictions = model.predict(test_df)\n",
    "# # Create a submission file\n",
    "sub_file = samplesubmission.copy()\n",
    "sub_file.target = predictions\n",
    "\n",
    "# # Check the distribution of your predictions\n",
    "sns.countplot([1 if x >= 0.5 else 0 for x in sub_file.target])\n",
    "plt.title('Predicted Variable Distribution');"
   ]
  },
  {
   "cell_type": "code",
   "execution_count": 369,
   "metadata": {
    "colab": {
     "base_uri": "https://localhost:8080/",
     "height": 195
    },
    "id": "oroCrCK27v-4",
    "outputId": "6de7be09-47f7-41d7-e59e-1c30726c8c3f"
   },
   "outputs": [
    {
     "data": {
      "text/html": [
       "<div>\n",
       "<style scoped>\n",
       "    .dataframe tbody tr th:only-of-type {\n",
       "        vertical-align: middle;\n",
       "    }\n",
       "\n",
       "    .dataframe tbody tr th {\n",
       "        vertical-align: top;\n",
       "    }\n",
       "\n",
       "    .dataframe thead th {\n",
       "        text-align: right;\n",
       "    }\n",
       "</style>\n",
       "<table border=\"1\" class=\"dataframe\">\n",
       "  <thead>\n",
       "    <tr style=\"text-align: right;\">\n",
       "      <th></th>\n",
       "      <th>ID</th>\n",
       "      <th>target</th>\n",
       "    </tr>\n",
       "  </thead>\n",
       "  <tbody>\n",
       "    <tr>\n",
       "      <th>0</th>\n",
       "      <td>ID_0000005111</td>\n",
       "      <td>0.820240</td>\n",
       "    </tr>\n",
       "    <tr>\n",
       "      <th>1</th>\n",
       "      <td>ID_0000389416</td>\n",
       "      <td>0.226901</td>\n",
       "    </tr>\n",
       "    <tr>\n",
       "      <th>2</th>\n",
       "      <td>ID_0000634789</td>\n",
       "      <td>0.594738</td>\n",
       "    </tr>\n",
       "    <tr>\n",
       "      <th>3</th>\n",
       "      <td>ID_0000778100</td>\n",
       "      <td>0.998616</td>\n",
       "    </tr>\n",
       "    <tr>\n",
       "      <th>4</th>\n",
       "      <td>ID_0001123210</td>\n",
       "      <td>0.577507</td>\n",
       "    </tr>\n",
       "  </tbody>\n",
       "</table>\n",
       "</div>"
      ],
      "text/plain": [
       "              ID    target\n",
       "0  ID_0000005111  0.820240\n",
       "1  ID_0000389416  0.226901\n",
       "2  ID_0000634789  0.594738\n",
       "3  ID_0000778100  0.998616\n",
       "4  ID_0001123210  0.577507"
      ]
     },
     "execution_count": 369,
     "metadata": {},
     "output_type": "execute_result"
    }
   ],
   "source": [
    "# Create a csv file and upload to zindi \n",
    "sub_file.to_csv('Baseline4.csv', index = False)\n",
    "sub_file.head() \n",
    "# i dont know what i am doing, heeeeeeeeeelp"
   ]
  },
  {
   "cell_type": "code",
   "execution_count": null,
   "metadata": {},
   "outputs": [],
   "source": []
  },
  {
   "cell_type": "code",
   "execution_count": null,
   "metadata": {},
   "outputs": [],
   "source": []
  }
 ],
 "metadata": {
  "colab": {
   "collapsed_sections": [],
   "name": "Financial_Resilience_Python_StarterNotebook.ipynb",
   "provenance": []
  },
  "kernelspec": {
   "display_name": "Python 3",
   "language": "python",
   "name": "python3"
  },
  "language_info": {
   "codemirror_mode": {
    "name": "ipython",
    "version": 3
   },
   "file_extension": ".py",
   "mimetype": "text/x-python",
   "name": "python",
   "nbconvert_exporter": "python",
   "pygments_lexer": "ipython3",
   "version": "3.6.9"
  }
 },
 "nbformat": 4,
 "nbformat_minor": 1
}
